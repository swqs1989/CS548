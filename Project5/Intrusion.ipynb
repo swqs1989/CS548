{
 "cells": [
  {
   "cell_type": "code",
   "execution_count": 199,
   "metadata": {
    "collapsed": true
   },
   "outputs": [],
   "source": [
    "import pandas as pd\n",
    "import numpy as np\n",
    "import matplotlib.pyplot as plt\n",
    "%matplotlib inline\n",
    "import time\n",
    "import copy\n",
    "from collections import Counter\n",
    "from matplotlib import pyplot as plt\n",
    "from sklearn.pipeline import Pipeline\n",
    "from sklearn.model_selection import GridSearchCV\n",
    "from sklearn.cluster import KMeans, AffinityPropagation, AgglomerativeClustering, DBSCAN\n",
    "from collections import Counter\n",
    "from sklearn.metrics import confusion_matrix\n",
    "from sklearn.metrics.cluster import fowlkes_mallows_score\n",
    "from sklearn.preprocessing import normalize\n",
    "from sklearn.metrics import normalized_mutual_info_score\n",
    "from sklearn.metrics import silhouette_samples, silhouette_score\n",
    "from sklearn.metrics import normalized_mutual_info_score\n",
    "from sklearn.preprocessing import StandardScaler, scale\n",
    "from matplotlib.collections import LineCollection\n",
    "from sklearn import manifold\n",
    "from sklearn.metrics import euclidean_distances\n",
    "from sklearn.decomposition import PCA\n",
    "from sklearn.tree import export_graphviz\n",
    "from sklearn import metrics\n",
    "from sklearn.neighbors import NearestNeighbors\n",
    "from sklearn.neighbors import LocalOutlierFactor\n",
    "import matplotlib.cm as cm\n",
    "import seaborn as sns\n",
    "sns.set(color_codes=True)"
   ]
  },
  {
   "cell_type": "code",
   "execution_count": 2,
   "metadata": {
    "collapsed": true
   },
   "outputs": [],
   "source": [
    "def calsse(df, clusters, centroid):\n",
    "    df = pd.DataFrame(df)\n",
    "    total = 0\n",
    "    count = 0\n",
    "    for i in range(len(clusters)):\n",
    "        for p in clusters[i]:\n",
    "            count+=1\n",
    "            total += distance(df.iloc[p, :], centroid[i])\n",
    "    # print(count)\n",
    "    return total\n",
    "\n",
    "def distance(inst1, inst2):\n",
    "    try:\n",
    "        inst1 = np.array(inst1)\n",
    "        inst2 = np.array(inst2)\n",
    "\n",
    "        if len(inst1) != len(inst2):\n",
    "            raise NameError(\"Not the same dimension.\")\n",
    "\n",
    "        total = 0\n",
    "        for i in range(len(inst1)):\n",
    "            total += (inst1[i] - inst2[i])**2\n",
    "        return total\n",
    "    except ValueError:\n",
    "        return 100\n",
    "\n",
    "class Clustering():\n",
    "    def __init__(self, df, ndf, labelstr, labelindex, display):\n",
    "        \"\"\"\n",
    "        :param k: int, number of cluster\n",
    "        :param df: dataframe, raw dataframe\n",
    "        :param ndf: dataframe, the dataframe used in model\n",
    "        :param labelstr: str, label in the dataframe\n",
    "        :param labelindex: int, index of label in the dataframe\n",
    "        :param display: int, 0-display all label, 1-display count label\n",
    "        \"\"\"\n",
    "        self.df = df\n",
    "        self.ndf = ndf\n",
    "        self.labelindex = labelindex\n",
    "\n",
    "        self.display = display\n",
    "\n",
    "        self.label = copy.deepcopy(df[labelstr])\n",
    "        if display == 1:\n",
    "            print(\"Labels distribution: \")\n",
    "            print(self.label.groupby(self.label).count())\n",
    "\n",
    "            #labels = self.label.unique().tolist()\n",
    "\n",
    "            #for i in range(len(self.label)):\n",
    "            #    self.label[i] = labels.index(self.label[i])\n",
    "\n",
    "\n",
    "    def KMeans_fit_predict(self, k, preproc=0, seed=32):\n",
    "        \"\"\"\n",
    "        :param k: number of clusters\n",
    "        :param preproc: 0-no preprocess, 1-normalize, 2-standardiza\n",
    "        :return:\n",
    "        \"\"\"\n",
    "        if preproc == 1:\n",
    "            ndf = pd.DataFrame(normalize(self.ndf, axis=0, copy=True))\n",
    "        elif preproc == 2:\n",
    "            ndf = pd.DataFrame(scale(self.ndf, axis=0, copy=True))\n",
    "        else:\n",
    "            ndf = self.ndf\n",
    "\n",
    "        summary = \"Summary: \\n\"\n",
    "        summary += \"KMeans, k=%r \\n\" % k\n",
    "\n",
    "        kmeans = KMeans(n_clusters=k, random_state=seed)\n",
    "        y_pred = kmeans.fit_predict(ndf)\n",
    "        sse = kmeans.inertia_\n",
    "\n",
    "        summary += \"SSE: %r \\n\" %sse\n",
    "\n",
    "        clusters = dict.fromkeys([i for i in range(k)], None)\n",
    "        for i in range(len(clusters)):\n",
    "            clusters[i] = []\n",
    "        for label in range(len(y_pred)):\n",
    "            clusters[y_pred[label]].append(label)\n",
    "\n",
    "        categories = {}\n",
    "        for i in range(k):\n",
    "            categories[i] = [self.df.iloc[m, self.labelindex] for m in clusters.get(i)]\n",
    "        for d in range(len(categories)):\n",
    "            if self.display == 0:\n",
    "                summary += \"Cluster %r: %r\\n\" %(d, \", \".join(categories[d]))\n",
    "            else:\n",
    "                summary +=  \"Cluster %r: %r\\n\" % (d, Counter(categories[d]))\n",
    "\n",
    "        cluster_center_ = {}\n",
    "        for i in range(len(kmeans.cluster_centers_)):\n",
    "            cluster_center_[i] = kmeans.cluster_centers_[i]\n",
    "\n",
    "        return categories, y_pred, cluster_center_, sse, summary\n",
    "\n",
    "    def AgglomerativeClustering_fit_predict(self, k, affinity=\"euclidean\", linkage=\"complete\", preproc=0, seed=32):\n",
    "        if preproc == 1:\n",
    "            ndf = pd.DataFrame(normalize(self.ndf, axis=0, copy=True))\n",
    "        elif preproc == 2:\n",
    "            ndf = pd.DataFrame(scale(self.ndf, axis=0, copy=True))\n",
    "        else:\n",
    "            ndf = self.ndf\n",
    "\n",
    "        summary = \"Summary: \\n\"\n",
    "        summary += \"AgglomerativeClustering, k=%r \\n\" % k\n",
    "\n",
    "        ac = AgglomerativeClustering(n_clusters=k, affinity=affinity, linkage=linkage)\n",
    "        y_pred = ac.fit_predict(ndf)\n",
    "\n",
    "        clusters = dict.fromkeys([i for i in range(k)], None)\n",
    "        for i in range(len(clusters)):\n",
    "            clusters[i] = []\n",
    "        for label in range(len(y_pred)):\n",
    "            clusters[y_pred[label]].append(label)\n",
    "        # calculate the center\n",
    "        cluster_center_ = {}\n",
    "        for i in range(k):\n",
    "            cluster_center_[i] = ndf.iloc[clusters[i], :].mean().tolist()\n",
    "        sse = 0\n",
    "        for i in range(k):\n",
    "            for iid in clusters[i]:\n",
    "                sse += distance(ndf.iloc[iid, :], cluster_center_[i])\n",
    "\n",
    "        summary += \"SSE: %r \\n\" % sse\n",
    "\n",
    "        categories = {}\n",
    "        for i in range(k):\n",
    "            categories[i] = [self.df.iloc[m, self.labelindex] for m in clusters.get(i)]\n",
    "        for d in range(len(categories)):\n",
    "            if self.display == 0:\n",
    "                summary += \"Cluster %r: %r\\n\" %(d, \", \".join(categories[d]))\n",
    "            else:\n",
    "                summary +=  \"Cluster %r: %r\\n\" % (d, Counter(categories[d]))\n",
    "\n",
    "        return categories, y_pred, cluster_center_, sse, summary\n",
    "\n",
    "    def DBSCAN_fit_predict(self, eps, min_s=1, preproc=0, seed=32):\n",
    "        if preproc == 1:\n",
    "            ndf = pd.DataFrame(normalize(self.ndf, axis=0, copy=True))\n",
    "        elif preproc == 2:\n",
    "            ndf = pd.DataFrame(scale(self.ndf, axis=0, copy=True))\n",
    "        else:\n",
    "            ndf = self.ndf\n",
    "\n",
    "        summary = \"Summary: \\n\"\n",
    "        summary += \"DBSCAN \\n\"\n",
    "\n",
    "        dbs = DBSCAN(eps=eps, min_samples=min_s, n_jobs=-1)\n",
    "        y_pred = dbs.fit_predict(ndf)\n",
    "\n",
    "        clusters = dict.fromkeys([i for i in set(y_pred)], None)\n",
    "        for i in set(y_pred):\n",
    "            clusters[i] = []\n",
    "        for label in range(len(y_pred)):\n",
    "            clusters[y_pred[label]].append(label)\n",
    "\n",
    "        cluster_center_ = {}\n",
    "        for i in set(y_pred):\n",
    "            cluster_center_[i] = ndf.iloc[clusters[i], :].mean().tolist()\n",
    "        sse = 0\n",
    "        for i in set(y_pred):\n",
    "            for iid in clusters[i]:\n",
    "                sse += distance(ndf.iloc[iid, :], cluster_center_[i])\n",
    "\n",
    "        summary += \"SSE: %r \\n\" %sse\n",
    "        \n",
    "        # summary += \"Std: %r \\n\" %\n",
    "\n",
    "        categories = {}\n",
    "        for i in set(y_pred):\n",
    "            categories[i] = [self.df.iloc[m, self.labelindex] for m in clusters.get(i)]\n",
    "        \n",
    "        if -1 not in cluster_center_.keys():\n",
    "            for d in range(len(categories)):\n",
    "                if self.display == 0:\n",
    "                    summary += \"Cluster %r: %r\\n\" %(d, \", \".join(categories[d]))\n",
    "                else:\n",
    "                    summary +=  \"Cluster %r: %r\\n\" % (d, Counter(categories[d]))\n",
    "        else:\n",
    "            for d in range(-1, len(categories) - 1):\n",
    "                if self.display == 0:\n",
    "                    summary += \"Cluster %r: %r\\n\" %(d, \", \".join(categories[d]))\n",
    "                else:\n",
    "                    summary +=  \"Cluster %r: %r\\n\" % (d, Counter(categories[d]))\n",
    "\n",
    "        return categories, y_pred, cluster_center_, sse, summary\n",
    "\n",
    "    def externalEval(self, y_pred, true_label):\n",
    "        true_label = np.array(true_label)\n",
    "        n_cluster = len(set(true_label))\n",
    "        y_pred_modi = y_pred.copy()\n",
    "        result = [[] for i in range(len(set(y_pred)))]\n",
    "        for i in range(len(y_pred)):\n",
    "            result[y_pred[i]].append(i)\n",
    "        dict1 = dict.fromkeys([i for i in range(n_cluster)], None)\n",
    "        for i in list(dict1.keys()):\n",
    "            dict1[i] = []\n",
    "        nummostnum = 0\n",
    "        for i in range(len(result)):\n",
    "            if len(true_label[result[i]]) > 0:\n",
    "                mostnum = Counter(true_label[result[i]]).most_common(1)[0][0]\n",
    "                nummostnum += Counter(true_label[result[i]]).most_common(1)[0][1]\n",
    "                dict1[mostnum] += (result[i])\n",
    "        for r in list(dict1.keys()):\n",
    "            for i in dict1[r]:\n",
    "                y_pred_modi[i] = r\n",
    "        nmi = normalized_mutual_info_score(true_label, y_pred)\n",
    "        purity = nummostnum / len(y_pred_modi)\n",
    "        fowlkes_mallows = fowlkes_mallows_score(true_label, y_pred_modi)\n",
    "        return nmi, purity, fowlkes_mallows\n",
    "\n",
    "    def silhouette(self, range_n_clusters, cluster_labelss):\n",
    "        X = self.ndf\n",
    "        for n_cluster in range_n_clusters:\n",
    "            fig, (ax1, ax2) = plt.subplots(1, 2)\n",
    "            fig.set_size_inches(12, 6)\n",
    "\n",
    "            ax1.set_xlim([-0.1, 1])\n",
    "            ax1.set_ylim([0, len(X) + (n_cluster + 1) * 10])\n",
    "\n",
    "            cluster_labels = cluster_labelss[n_cluster-2]\n",
    "\n",
    "            # categories, cluster_labels, cluster_centers_, summary = self.kmeans_fit_predict(n_cluster, preproc)\n",
    "\n",
    "            silhouette_avg = silhouette_score(X, cluster_labels)\n",
    "            print(\"For n_clusters =\", n_cluster,\n",
    "                  \"The average silhouette_score is :\", silhouette_avg)\n",
    "\n",
    "            # Compute the silhouette scores for each sample\n",
    "            sample_silhouette_values = silhouette_samples(X, cluster_labels)\n",
    "\n",
    "            y_lower = 10\n",
    "            for i in range(n_cluster):\n",
    "                ith_cluster_silhouette_values = \\\n",
    "                    sample_silhouette_values[cluster_labels == i]\n",
    "\n",
    "                ith_cluster_silhouette_values.sort()\n",
    "\n",
    "                size_cluster_i = ith_cluster_silhouette_values.shape[0]\n",
    "                y_upper = y_lower + size_cluster_i\n",
    "\n",
    "                color = cm.spectral(float(i) / n_cluster)\n",
    "                ax1.fill_betweenx(np.arange(y_lower, y_upper),\n",
    "                                  0, ith_cluster_silhouette_values,\n",
    "                                  facecolor=color, edgecolor=color, alpha=0.7)\n",
    "\n",
    "                ax1.text(-0.05, y_lower + 0.5 * size_cluster_i, str(i))\n",
    "\n",
    "                y_lower = y_upper + 10  # 10 for the 0 samples\n",
    "\n",
    "            ax1.set_title(\"The silhouette plot for the various clusters.\")\n",
    "            ax1.set_xlabel(\"The silhouette coefficient values\")\n",
    "            ax1.set_ylabel(\"Cluster label\")\n",
    "\n",
    "            # The vertical line for average silhouette score of all the values\n",
    "            ax1.axvline(x=silhouette_avg, color=\"red\", linestyle=\"--\")\n",
    "\n",
    "            ax1.set_yticks([])  # Clear the yaxis labels / ticks\n",
    "            ax1.set_xticks([-0.1, 0, 0.2, 0.4, 0.6, 0.8, 1])\n",
    "\n",
    "            # mds\n",
    "            # mds\n",
    "            similarities = euclidean_distances(X)\n",
    "            mds = manifold.MDS(n_components=2, max_iter=3000, eps=1e-9, random_state=random_state,\n",
    "                               dissimilarity=\"precomputed\", n_jobs=1)\n",
    "            pos = mds.fit(similarities).embedding_\n",
    "            df_pos = pd.DataFrame(pos, columns=[\"comp1\", \"comp2\"])\n",
    "            df_pos[\"pred\"] = cluster_labels\n",
    "\n",
    "            for i in range(n_cluster):\n",
    "                color = cm.spectral(float(i) / n_cluster)\n",
    "                ax2.scatter(df_pos[df_pos[\"pred\"] == i].iloc[:, 0], df_pos[df_pos[\"pred\"] == i].iloc[:, 1], c=color)\n",
    "\n",
    "            ax2.set_title(\"The visualization of the clustered data.\")\n",
    "            ax2.set_xlabel(\"Feature space for the 1st MDS feature\")\n",
    "            ax2.set_ylabel(\"Feature space for the 2nd MDS feature\")\n",
    "\n",
    "            plt.suptitle((\"Silhouette analysis for KMeans clustering on sample data \"\n",
    "                          \"with n_clusters = %d\" % n_cluster),\n",
    "                         fontsize=14, fontweight='bold')\n",
    "            # end mds\n",
    "            plt.show()\n",
    "\n",
    "class visualization():\n",
    "    def MDSplot(self, ndf, y_pred, n_clusters, show=False):\n",
    "        fig, ax = plt.subplots()\n",
    "        similarities = euclidean_distances(ndf)\n",
    "        mds = manifold.MDS(n_components=2, max_iter=3000, eps=1e-9,\n",
    "                           dissimilarity=\"precomputed\", n_jobs=1)\n",
    "        pos = mds.fit(similarities).embedding_\n",
    "        df_pos = pd.DataFrame(pos, columns=[\"comp1\", \"comp2\"])\n",
    "        df_pos[\"pred\"] = y_pred\n",
    "\n",
    "        for i in range(n_clusters):\n",
    "            color = cm.spectral(float(i) / n_clusters)\n",
    "            ax.scatter(df_pos[df_pos[\"pred\"] == i].iloc[:, 0], df_pos[df_pos[\"pred\"] == i].iloc[:, 1], c=color)\n",
    "        ax.set_title(\"The MDS visualization of the clustered data.\")\n",
    "        ax.set_xlabel(\"1st MDS feature\")\n",
    "        ax.set_ylabel(\"2nd MDS feature\")\n",
    "        if show:\n",
    "            plt.plot()\n",
    "        return ax\n",
    "\n",
    "    def Comparingplot(self, range_n_clusters, sses, nmis, purities, fms):\n",
    "\n",
    "        fig, ((ax1, ax2), (ax3, ax4)) = plt.subplots(2, 2)\n",
    "        fig.set_size_inches(12, 6)\n",
    "\n",
    "        ax1.set_title(\"SSE\")\n",
    "        #ax1.set_xlabel(\"num of clusters\")\n",
    "        ax1.set_ylabel(\"SSE\")\n",
    "        ax1.plot(range_n_clusters, sses)\n",
    "\n",
    "        ax2.set_title(\"NMI\")\n",
    "        #ax2.set_xlabel(\"num of clusters\")\n",
    "        ax2.set_ylabel(\"NMI\")\n",
    "        ax2.plot(range_n_clusters, nmis)\n",
    "\n",
    "        ax3.set_title(\"Purity\")\n",
    "        #ax3.set_xlabel(\"num of clusters\")\n",
    "        ax3.set_ylabel(\"Purity\")\n",
    "        ax3.plot(range_n_clusters, purities)\n",
    "\n",
    "        ax4.set_title(\"fowlkes_mallows score\")\n",
    "        #ax4.set_xlabel(\"num of clusters\")\n",
    "        ax4.set_ylabel(\"fowlkes_mallows score\")\n",
    "        ax4.plot(range_n_clusters, fms)\n",
    "        plt.show()\n",
    "\n",
    "    def visualizeData(self, kcentroid, summary):\n",
    "        print(summary)\n",
    "        length = len(kcentroid[0])\n",
    "        ind = np.arange(length)  # the x locations for the groups\n",
    "        width = 0.15  # the width of the bars\n",
    "        fig, ax = plt.subplots()\n",
    "        fig.set_size_inches(9, 4)\n",
    "        if -1 not in kcentroid.keys():\n",
    "            for k in range(len(kcentroid)):\n",
    "                color = cm.spectral(float(k) / len(kcentroid))\n",
    "                ax.bar(ind + k * width, kcentroid[k], width, color=color)\n",
    "        else:\n",
    "            for k in range(-1, len(kcentroid) - 1):\n",
    "                color = cm.spectral(float(k+1) / len(kcentroid))\n",
    "                ax.bar(ind + k * width, kcentroid[k], width, color=color)\n",
    "        ax.set_xticks(ind + width / 2)\n",
    "        if length == 7:\n",
    "            ax.set_xticklabels(('Start Median', 'Mid Median', 'Percent', '10th', '25th', '75th', '90th'))\n",
    "        else:\n",
    "            ax.set_xticklabels(('Start Median', 'Mid Median', '10th', '25th', '75th', '90th'))"
   ]
  },
  {
   "cell_type": "code",
   "execution_count": 3,
   "metadata": {
    "collapsed": true
   },
   "outputs": [],
   "source": [
    "intru_types = {}\n",
    "with open(\"intru_types\") as f:\n",
    "    for line in f:\n",
    "        newline = line.split(\" \")\n",
    "        key = newline[0]+\".\"\n",
    "        value = newline[1].replace(\"\\n\", \"\")\n",
    "        intru_types[key] = value\n",
    "intru_types[\"normal.\"] = \"normal\""
   ]
  },
  {
   "cell_type": "code",
   "execution_count": 4,
   "metadata": {
    "collapsed": true
   },
   "outputs": [],
   "source": [
    "features = []\n",
    "feature_type = []\n",
    "with open(\"feature\") as f:\n",
    "    for line in f:\n",
    "        features.append(line.split(\":\")[0])\n",
    "        feature_type.append((line.split(\":\")[1]).replace(\" \", \"\").replace(\".\\n\", \"\"))\n",
    "features.append(\"type\")"
   ]
  },
  {
   "cell_type": "code",
   "execution_count": 5,
   "metadata": {
    "collapsed": true
   },
   "outputs": [],
   "source": [
    "kdd = pd.read_table(\"datasets/kddcup.data_10_percent\", sep=\",\", index_col=False, names=features)"
   ]
  },
  {
   "cell_type": "code",
   "execution_count": 6,
   "metadata": {
    "collapsed": true
   },
   "outputs": [],
   "source": [
    "valset = pd.read_table(\"datasets/corrected\", sep=\",\", index_col=False, names=features)"
   ]
  },
  {
   "cell_type": "code",
   "execution_count": 7,
   "metadata": {
    "collapsed": true
   },
   "outputs": [],
   "source": [
    "valset[\"type\"].replace(intru_types, inplace=True)\n",
    "valset = valset[valset[\"service\"] == \"http\"]\n",
    "valset.drop([\"protocol_type\", \"service\", \"flag\"], axis=1, inplace=True)"
   ]
  },
  {
   "cell_type": "code",
   "execution_count": 8,
   "metadata": {
    "collapsed": true
   },
   "outputs": [],
   "source": [
    "with open(\"http.arff\", \"w\") as f:\n",
    "    f.write(\"@relation http\\n\")\n",
    "    for i in range(len(feature_type)):\n",
    "        ftype = \"numeric\" if feature_type[i] == \"continuous\" else \"nominal {}\"\n",
    "        f.write(\"@attribute \"+features[i]+\" \"+ftype+\"\\n\")\n",
    "    f.write(\"@data\\n\")\n",
    "    with open(\"datasets/kddcup.data_10_percent\") as f1:\n",
    "        for line in f1:\n",
    "            line = line.replace(\".\\n\", \"\\n\")\n",
    "            f.write(line)"
   ]
  },
  {
   "cell_type": "code",
   "execution_count": 9,
   "metadata": {},
   "outputs": [
    {
     "data": {
      "text/plain": [
       "(41237, 39)"
      ]
     },
     "execution_count": 9,
     "metadata": {},
     "output_type": "execute_result"
    }
   ],
   "source": [
    "valset.shape"
   ]
  },
  {
   "cell_type": "code",
   "execution_count": 10,
   "metadata": {},
   "outputs": [
    {
     "data": {
      "text/plain": [
       "(494021, 42)"
      ]
     },
     "execution_count": 10,
     "metadata": {},
     "output_type": "execute_result"
    }
   ],
   "source": [
    "kdd.shape"
   ]
  },
  {
   "cell_type": "code",
   "execution_count": 11,
   "metadata": {},
   "outputs": [
    {
     "data": {
      "text/html": [
       "<div>\n",
       "<style>\n",
       "    .dataframe thead tr:only-child th {\n",
       "        text-align: right;\n",
       "    }\n",
       "\n",
       "    .dataframe thead th {\n",
       "        text-align: left;\n",
       "    }\n",
       "\n",
       "    .dataframe tbody tr th {\n",
       "        vertical-align: top;\n",
       "    }\n",
       "</style>\n",
       "<table border=\"1\" class=\"dataframe\">\n",
       "  <thead>\n",
       "    <tr style=\"text-align: right;\">\n",
       "      <th></th>\n",
       "      <th>duration</th>\n",
       "      <th>protocol_type</th>\n",
       "      <th>service</th>\n",
       "      <th>flag</th>\n",
       "      <th>src_bytes</th>\n",
       "      <th>dst_bytes</th>\n",
       "      <th>land</th>\n",
       "      <th>wrong_fragment</th>\n",
       "      <th>urgent</th>\n",
       "      <th>hot</th>\n",
       "      <th>...</th>\n",
       "      <th>dst_host_srv_count</th>\n",
       "      <th>dst_host_same_srv_rate</th>\n",
       "      <th>dst_host_diff_srv_rate</th>\n",
       "      <th>dst_host_same_src_port_rate</th>\n",
       "      <th>dst_host_srv_diff_host_rate</th>\n",
       "      <th>dst_host_serror_rate</th>\n",
       "      <th>dst_host_srv_serror_rate</th>\n",
       "      <th>dst_host_rerror_rate</th>\n",
       "      <th>dst_host_srv_rerror_rate</th>\n",
       "      <th>type</th>\n",
       "    </tr>\n",
       "  </thead>\n",
       "  <tbody>\n",
       "    <tr>\n",
       "      <th>0</th>\n",
       "      <td>0</td>\n",
       "      <td>tcp</td>\n",
       "      <td>http</td>\n",
       "      <td>SF</td>\n",
       "      <td>181</td>\n",
       "      <td>5450</td>\n",
       "      <td>0</td>\n",
       "      <td>0</td>\n",
       "      <td>0</td>\n",
       "      <td>0</td>\n",
       "      <td>...</td>\n",
       "      <td>9</td>\n",
       "      <td>1.0</td>\n",
       "      <td>0.0</td>\n",
       "      <td>0.11</td>\n",
       "      <td>0.0</td>\n",
       "      <td>0.0</td>\n",
       "      <td>0.0</td>\n",
       "      <td>0.0</td>\n",
       "      <td>0.0</td>\n",
       "      <td>normal.</td>\n",
       "    </tr>\n",
       "    <tr>\n",
       "      <th>1</th>\n",
       "      <td>0</td>\n",
       "      <td>tcp</td>\n",
       "      <td>http</td>\n",
       "      <td>SF</td>\n",
       "      <td>239</td>\n",
       "      <td>486</td>\n",
       "      <td>0</td>\n",
       "      <td>0</td>\n",
       "      <td>0</td>\n",
       "      <td>0</td>\n",
       "      <td>...</td>\n",
       "      <td>19</td>\n",
       "      <td>1.0</td>\n",
       "      <td>0.0</td>\n",
       "      <td>0.05</td>\n",
       "      <td>0.0</td>\n",
       "      <td>0.0</td>\n",
       "      <td>0.0</td>\n",
       "      <td>0.0</td>\n",
       "      <td>0.0</td>\n",
       "      <td>normal.</td>\n",
       "    </tr>\n",
       "    <tr>\n",
       "      <th>2</th>\n",
       "      <td>0</td>\n",
       "      <td>tcp</td>\n",
       "      <td>http</td>\n",
       "      <td>SF</td>\n",
       "      <td>235</td>\n",
       "      <td>1337</td>\n",
       "      <td>0</td>\n",
       "      <td>0</td>\n",
       "      <td>0</td>\n",
       "      <td>0</td>\n",
       "      <td>...</td>\n",
       "      <td>29</td>\n",
       "      <td>1.0</td>\n",
       "      <td>0.0</td>\n",
       "      <td>0.03</td>\n",
       "      <td>0.0</td>\n",
       "      <td>0.0</td>\n",
       "      <td>0.0</td>\n",
       "      <td>0.0</td>\n",
       "      <td>0.0</td>\n",
       "      <td>normal.</td>\n",
       "    </tr>\n",
       "    <tr>\n",
       "      <th>3</th>\n",
       "      <td>0</td>\n",
       "      <td>tcp</td>\n",
       "      <td>http</td>\n",
       "      <td>SF</td>\n",
       "      <td>219</td>\n",
       "      <td>1337</td>\n",
       "      <td>0</td>\n",
       "      <td>0</td>\n",
       "      <td>0</td>\n",
       "      <td>0</td>\n",
       "      <td>...</td>\n",
       "      <td>39</td>\n",
       "      <td>1.0</td>\n",
       "      <td>0.0</td>\n",
       "      <td>0.03</td>\n",
       "      <td>0.0</td>\n",
       "      <td>0.0</td>\n",
       "      <td>0.0</td>\n",
       "      <td>0.0</td>\n",
       "      <td>0.0</td>\n",
       "      <td>normal.</td>\n",
       "    </tr>\n",
       "    <tr>\n",
       "      <th>4</th>\n",
       "      <td>0</td>\n",
       "      <td>tcp</td>\n",
       "      <td>http</td>\n",
       "      <td>SF</td>\n",
       "      <td>217</td>\n",
       "      <td>2032</td>\n",
       "      <td>0</td>\n",
       "      <td>0</td>\n",
       "      <td>0</td>\n",
       "      <td>0</td>\n",
       "      <td>...</td>\n",
       "      <td>49</td>\n",
       "      <td>1.0</td>\n",
       "      <td>0.0</td>\n",
       "      <td>0.02</td>\n",
       "      <td>0.0</td>\n",
       "      <td>0.0</td>\n",
       "      <td>0.0</td>\n",
       "      <td>0.0</td>\n",
       "      <td>0.0</td>\n",
       "      <td>normal.</td>\n",
       "    </tr>\n",
       "  </tbody>\n",
       "</table>\n",
       "<p>5 rows × 42 columns</p>\n",
       "</div>"
      ],
      "text/plain": [
       "   duration protocol_type service flag  src_bytes  dst_bytes  land  \\\n",
       "0         0           tcp    http   SF        181       5450     0   \n",
       "1         0           tcp    http   SF        239        486     0   \n",
       "2         0           tcp    http   SF        235       1337     0   \n",
       "3         0           tcp    http   SF        219       1337     0   \n",
       "4         0           tcp    http   SF        217       2032     0   \n",
       "\n",
       "   wrong_fragment  urgent  hot   ...     dst_host_srv_count  \\\n",
       "0               0       0    0   ...                      9   \n",
       "1               0       0    0   ...                     19   \n",
       "2               0       0    0   ...                     29   \n",
       "3               0       0    0   ...                     39   \n",
       "4               0       0    0   ...                     49   \n",
       "\n",
       "   dst_host_same_srv_rate  dst_host_diff_srv_rate  \\\n",
       "0                     1.0                     0.0   \n",
       "1                     1.0                     0.0   \n",
       "2                     1.0                     0.0   \n",
       "3                     1.0                     0.0   \n",
       "4                     1.0                     0.0   \n",
       "\n",
       "   dst_host_same_src_port_rate  dst_host_srv_diff_host_rate  \\\n",
       "0                         0.11                          0.0   \n",
       "1                         0.05                          0.0   \n",
       "2                         0.03                          0.0   \n",
       "3                         0.03                          0.0   \n",
       "4                         0.02                          0.0   \n",
       "\n",
       "   dst_host_serror_rate  dst_host_srv_serror_rate  dst_host_rerror_rate  \\\n",
       "0                   0.0                       0.0                   0.0   \n",
       "1                   0.0                       0.0                   0.0   \n",
       "2                   0.0                       0.0                   0.0   \n",
       "3                   0.0                       0.0                   0.0   \n",
       "4                   0.0                       0.0                   0.0   \n",
       "\n",
       "   dst_host_srv_rerror_rate     type  \n",
       "0                       0.0  normal.  \n",
       "1                       0.0  normal.  \n",
       "2                       0.0  normal.  \n",
       "3                       0.0  normal.  \n",
       "4                       0.0  normal.  \n",
       "\n",
       "[5 rows x 42 columns]"
      ]
     },
     "execution_count": 11,
     "metadata": {},
     "output_type": "execute_result"
    }
   ],
   "source": [
    "kdd.head()"
   ]
  },
  {
   "cell_type": "code",
   "execution_count": 12,
   "metadata": {},
   "outputs": [
    {
     "data": {
      "text/plain": [
       "type\n",
       "back.                 2203\n",
       "buffer_overflow.        30\n",
       "ftp_write.               8\n",
       "guess_passwd.           53\n",
       "imap.                   12\n",
       "ipsweep.              1247\n",
       "land.                   21\n",
       "loadmodule.              9\n",
       "multihop.                7\n",
       "neptune.            107201\n",
       "nmap.                  231\n",
       "normal.              97278\n",
       "perl.                    3\n",
       "phf.                     4\n",
       "pod.                   264\n",
       "portsweep.            1040\n",
       "rootkit.                10\n",
       "satan.                1589\n",
       "smurf.              280790\n",
       "spy.                     2\n",
       "teardrop.              979\n",
       "warezclient.          1020\n",
       "warezmaster.            20\n",
       "Name: type, dtype: int64"
      ]
     },
     "execution_count": 12,
     "metadata": {},
     "output_type": "execute_result"
    }
   ],
   "source": [
    "kdd[\"type\"].groupby(kdd[\"type\"]).count()"
   ]
  },
  {
   "cell_type": "code",
   "execution_count": 13,
   "metadata": {
    "collapsed": true
   },
   "outputs": [],
   "source": [
    "kdd[\"type\"].replace(intru_types, inplace=True)"
   ]
  },
  {
   "cell_type": "code",
   "execution_count": 14,
   "metadata": {},
   "outputs": [
    {
     "data": {
      "text/plain": [
       "normal    61886\n",
       "dos        2395\n",
       "probe         8\n",
       "r2l           4\n",
       "Name: type, dtype: int64"
      ]
     },
     "execution_count": 14,
     "metadata": {},
     "output_type": "execute_result"
    }
   ],
   "source": [
    "kdd[kdd[\"service\"] == \"http\"][\"type\"].value_counts()"
   ]
  },
  {
   "cell_type": "code",
   "execution_count": 15,
   "metadata": {},
   "outputs": [
    {
     "data": {
      "text/plain": [
       "<matplotlib.axes._subplots.AxesSubplot at 0x117a94320>"
      ]
     },
     "execution_count": 15,
     "metadata": {},
     "output_type": "execute_result"
    },
    {
     "data": {
      "image/png": "[encoded data removed]",
      "text/plain": [
       "<matplotlib.figure.Figure at 0x117aeba20>"
      ]
     },
     "metadata": {},
     "output_type": "display_data"
    }
   ],
   "source": [
    "plt.title(\"Types of intrusion\")\n",
    "kdd[kdd[\"service\"] == \"http\"][\"type\"].value_counts().plot(\"pie\")"
   ]
  },
  {
   "cell_type": "code",
   "execution_count": 16,
   "metadata": {},
   "outputs": [
    {
     "data": {
      "image/png": "[encoded data removed]",
      "text/plain": [
       "<matplotlib.figure.Figure at 0x114b1f748>"
      ]
     },
     "metadata": {},
     "output_type": "display_data"
    }
   ],
   "source": [
    "labels = 'normal', 'anomaly'\n",
    "sizes = [96, 4]\n",
    "explode = (0, 0.1)  # only \"explode\" the 2nd slice (i.e. 'Hogs')\n",
    "\n",
    "fig1, ax1 = plt.subplots()\n",
    "ax1.pie(sizes, explode=explode, labels=labels, autopct='%1.1f%%',\n",
    "        shadow=True, startangle=45)\n",
    "ax1.axis('equal')  # Equal aspect ratio ensures that pie is drawn as a circle.\n",
    "plt.title(\"Distribution of the Dataset\")\n",
    "plt.show()"
   ]
  },
  {
   "cell_type": "code",
   "execution_count": 17,
   "metadata": {},
   "outputs": [
    {
     "data": {
      "text/plain": [
       "<matplotlib.axes._subplots.AxesSubplot at 0x1149fc048>"
      ]
     },
     "execution_count": 17,
     "metadata": {},
     "output_type": "execute_result"
    },
    {
     "data": {
      "image/png": "[encoded data removed]",
      "text/plain": [
       "<matplotlib.figure.Figure at 0x114b13f60>"
      ]
     },
     "metadata": {},
     "output_type": "display_data"
    }
   ],
   "source": [
    "plt.title(\"service\")\n",
    "kdd[\"service\"].value_counts()[:10].plot(\"bar\")"
   ]
  },
  {
   "cell_type": "code",
   "execution_count": 18,
   "metadata": {
    "collapsed": true
   },
   "outputs": [],
   "source": [
    "http = kdd[kdd[\"service\"] == \"http\"]"
   ]
  },
  {
   "cell_type": "code",
   "execution_count": 19,
   "metadata": {},
   "outputs": [
    {
     "data": {
      "text/plain": [
       "(64293, 42)"
      ]
     },
     "execution_count": 19,
     "metadata": {},
     "output_type": "execute_result"
    }
   ],
   "source": [
    "http.shape"
   ]
  },
  {
   "cell_type": "code",
   "execution_count": 20,
   "metadata": {},
   "outputs": [
    {
     "data": {
      "text/plain": [
       "<matplotlib.axes._subplots.AxesSubplot at 0x11b081eb8>"
      ]
     },
     "execution_count": 20,
     "metadata": {},
     "output_type": "execute_result"
    },
    {
     "data": {
      "image/png": "[encoded data removed]",
      "text/plain": [
       "<matplotlib.figure.Figure at 0x114c2c438>"
      ]
     },
     "metadata": {},
     "output_type": "display_data"
    }
   ],
   "source": [
    "plt.title(\"Types of intrusion\")\n",
    "http[\"type\"].value_counts().plot(\"pie\")"
   ]
  },
  {
   "cell_type": "code",
   "execution_count": 21,
   "metadata": {},
   "outputs": [
    {
     "data": {
      "text/html": [
       "<div>\n",
       "<style>\n",
       "    .dataframe thead tr:only-child th {\n",
       "        text-align: right;\n",
       "    }\n",
       "\n",
       "    .dataframe thead th {\n",
       "        text-align: left;\n",
       "    }\n",
       "\n",
       "    .dataframe tbody tr th {\n",
       "        vertical-align: top;\n",
       "    }\n",
       "</style>\n",
       "<table border=\"1\" class=\"dataframe\">\n",
       "  <thead>\n",
       "    <tr style=\"text-align: right;\">\n",
       "      <th></th>\n",
       "      <th>duration</th>\n",
       "      <th>protocol_type</th>\n",
       "      <th>service</th>\n",
       "      <th>flag</th>\n",
       "      <th>src_bytes</th>\n",
       "      <th>dst_bytes</th>\n",
       "      <th>land</th>\n",
       "      <th>wrong_fragment</th>\n",
       "      <th>urgent</th>\n",
       "      <th>hot</th>\n",
       "      <th>...</th>\n",
       "      <th>dst_host_srv_count</th>\n",
       "      <th>dst_host_same_srv_rate</th>\n",
       "      <th>dst_host_diff_srv_rate</th>\n",
       "      <th>dst_host_same_src_port_rate</th>\n",
       "      <th>dst_host_srv_diff_host_rate</th>\n",
       "      <th>dst_host_serror_rate</th>\n",
       "      <th>dst_host_srv_serror_rate</th>\n",
       "      <th>dst_host_rerror_rate</th>\n",
       "      <th>dst_host_srv_rerror_rate</th>\n",
       "      <th>type</th>\n",
       "    </tr>\n",
       "  </thead>\n",
       "  <tbody>\n",
       "    <tr>\n",
       "      <th>0</th>\n",
       "      <td>0</td>\n",
       "      <td>tcp</td>\n",
       "      <td>http</td>\n",
       "      <td>SF</td>\n",
       "      <td>181</td>\n",
       "      <td>5450</td>\n",
       "      <td>0</td>\n",
       "      <td>0</td>\n",
       "      <td>0</td>\n",
       "      <td>0</td>\n",
       "      <td>...</td>\n",
       "      <td>9</td>\n",
       "      <td>1.0</td>\n",
       "      <td>0.0</td>\n",
       "      <td>0.11</td>\n",
       "      <td>0.0</td>\n",
       "      <td>0.0</td>\n",
       "      <td>0.0</td>\n",
       "      <td>0.0</td>\n",
       "      <td>0.0</td>\n",
       "      <td>normal</td>\n",
       "    </tr>\n",
       "    <tr>\n",
       "      <th>1</th>\n",
       "      <td>0</td>\n",
       "      <td>tcp</td>\n",
       "      <td>http</td>\n",
       "      <td>SF</td>\n",
       "      <td>239</td>\n",
       "      <td>486</td>\n",
       "      <td>0</td>\n",
       "      <td>0</td>\n",
       "      <td>0</td>\n",
       "      <td>0</td>\n",
       "      <td>...</td>\n",
       "      <td>19</td>\n",
       "      <td>1.0</td>\n",
       "      <td>0.0</td>\n",
       "      <td>0.05</td>\n",
       "      <td>0.0</td>\n",
       "      <td>0.0</td>\n",
       "      <td>0.0</td>\n",
       "      <td>0.0</td>\n",
       "      <td>0.0</td>\n",
       "      <td>normal</td>\n",
       "    </tr>\n",
       "    <tr>\n",
       "      <th>2</th>\n",
       "      <td>0</td>\n",
       "      <td>tcp</td>\n",
       "      <td>http</td>\n",
       "      <td>SF</td>\n",
       "      <td>235</td>\n",
       "      <td>1337</td>\n",
       "      <td>0</td>\n",
       "      <td>0</td>\n",
       "      <td>0</td>\n",
       "      <td>0</td>\n",
       "      <td>...</td>\n",
       "      <td>29</td>\n",
       "      <td>1.0</td>\n",
       "      <td>0.0</td>\n",
       "      <td>0.03</td>\n",
       "      <td>0.0</td>\n",
       "      <td>0.0</td>\n",
       "      <td>0.0</td>\n",
       "      <td>0.0</td>\n",
       "      <td>0.0</td>\n",
       "      <td>normal</td>\n",
       "    </tr>\n",
       "    <tr>\n",
       "      <th>3</th>\n",
       "      <td>0</td>\n",
       "      <td>tcp</td>\n",
       "      <td>http</td>\n",
       "      <td>SF</td>\n",
       "      <td>219</td>\n",
       "      <td>1337</td>\n",
       "      <td>0</td>\n",
       "      <td>0</td>\n",
       "      <td>0</td>\n",
       "      <td>0</td>\n",
       "      <td>...</td>\n",
       "      <td>39</td>\n",
       "      <td>1.0</td>\n",
       "      <td>0.0</td>\n",
       "      <td>0.03</td>\n",
       "      <td>0.0</td>\n",
       "      <td>0.0</td>\n",
       "      <td>0.0</td>\n",
       "      <td>0.0</td>\n",
       "      <td>0.0</td>\n",
       "      <td>normal</td>\n",
       "    </tr>\n",
       "    <tr>\n",
       "      <th>4</th>\n",
       "      <td>0</td>\n",
       "      <td>tcp</td>\n",
       "      <td>http</td>\n",
       "      <td>SF</td>\n",
       "      <td>217</td>\n",
       "      <td>2032</td>\n",
       "      <td>0</td>\n",
       "      <td>0</td>\n",
       "      <td>0</td>\n",
       "      <td>0</td>\n",
       "      <td>...</td>\n",
       "      <td>49</td>\n",
       "      <td>1.0</td>\n",
       "      <td>0.0</td>\n",
       "      <td>0.02</td>\n",
       "      <td>0.0</td>\n",
       "      <td>0.0</td>\n",
       "      <td>0.0</td>\n",
       "      <td>0.0</td>\n",
       "      <td>0.0</td>\n",
       "      <td>normal</td>\n",
       "    </tr>\n",
       "  </tbody>\n",
       "</table>\n",
       "<p>5 rows × 42 columns</p>\n",
       "</div>"
      ],
      "text/plain": [
       "   duration protocol_type service flag  src_bytes  dst_bytes  land  \\\n",
       "0         0           tcp    http   SF        181       5450     0   \n",
       "1         0           tcp    http   SF        239        486     0   \n",
       "2         0           tcp    http   SF        235       1337     0   \n",
       "3         0           tcp    http   SF        219       1337     0   \n",
       "4         0           tcp    http   SF        217       2032     0   \n",
       "\n",
       "   wrong_fragment  urgent  hot   ...    dst_host_srv_count  \\\n",
       "0               0       0    0   ...                     9   \n",
       "1               0       0    0   ...                    19   \n",
       "2               0       0    0   ...                    29   \n",
       "3               0       0    0   ...                    39   \n",
       "4               0       0    0   ...                    49   \n",
       "\n",
       "   dst_host_same_srv_rate  dst_host_diff_srv_rate  \\\n",
       "0                     1.0                     0.0   \n",
       "1                     1.0                     0.0   \n",
       "2                     1.0                     0.0   \n",
       "3                     1.0                     0.0   \n",
       "4                     1.0                     0.0   \n",
       "\n",
       "   dst_host_same_src_port_rate  dst_host_srv_diff_host_rate  \\\n",
       "0                         0.11                          0.0   \n",
       "1                         0.05                          0.0   \n",
       "2                         0.03                          0.0   \n",
       "3                         0.03                          0.0   \n",
       "4                         0.02                          0.0   \n",
       "\n",
       "   dst_host_serror_rate  dst_host_srv_serror_rate  dst_host_rerror_rate  \\\n",
       "0                   0.0                       0.0                   0.0   \n",
       "1                   0.0                       0.0                   0.0   \n",
       "2                   0.0                       0.0                   0.0   \n",
       "3                   0.0                       0.0                   0.0   \n",
       "4                   0.0                       0.0                   0.0   \n",
       "\n",
       "   dst_host_srv_rerror_rate    type  \n",
       "0                       0.0  normal  \n",
       "1                       0.0  normal  \n",
       "2                       0.0  normal  \n",
       "3                       0.0  normal  \n",
       "4                       0.0  normal  \n",
       "\n",
       "[5 rows x 42 columns]"
      ]
     },
     "execution_count": 21,
     "metadata": {},
     "output_type": "execute_result"
    }
   ],
   "source": [
    "http.head()"
   ]
  },
  {
   "cell_type": "code",
   "execution_count": 22,
   "metadata": {},
   "outputs": [
    {
     "data": {
      "text/plain": [
       "SF      58547\n",
       "REJ      5354\n",
       "S0        200\n",
       "RSTR       93\n",
       "RSTO       39\n",
       "S1         36\n",
       "S2         20\n",
       "S3          4\n",
       "Name: flag, dtype: int64"
      ]
     },
     "execution_count": 22,
     "metadata": {},
     "output_type": "execute_result"
    }
   ],
   "source": [
    "http[\"flag\"].value_counts()"
   ]
  },
  {
   "cell_type": "code",
   "execution_count": 23,
   "metadata": {},
   "outputs": [
    {
     "name": "stderr",
     "output_type": "stream",
     "text": [
      "/Users/youqiao/env/anaconda3/lib/python3.6/site-packages/ipykernel_launcher.py:1: SettingWithCopyWarning: \n",
      "A value is trying to be set on a copy of a slice from a DataFrame\n",
      "\n",
      "See the caveats in the documentation: http://pandas.pydata.org/pandas-docs/stable/indexing.html#indexing-view-versus-copy\n",
      "  \"\"\"Entry point for launching an IPython kernel.\n"
     ]
    }
   ],
   "source": [
    "http.drop([\"protocol_type\", \"service\", \"flag\"], axis=1, inplace=True)"
   ]
  },
  {
   "cell_type": "code",
   "execution_count": 24,
   "metadata": {},
   "outputs": [
    {
     "data": {
      "text/html": [
       "<div>\n",
       "<style>\n",
       "    .dataframe thead tr:only-child th {\n",
       "        text-align: right;\n",
       "    }\n",
       "\n",
       "    .dataframe thead th {\n",
       "        text-align: left;\n",
       "    }\n",
       "\n",
       "    .dataframe tbody tr th {\n",
       "        vertical-align: top;\n",
       "    }\n",
       "</style>\n",
       "<table border=\"1\" class=\"dataframe\">\n",
       "  <thead>\n",
       "    <tr style=\"text-align: right;\">\n",
       "      <th></th>\n",
       "      <th>duration</th>\n",
       "      <th>src_bytes</th>\n",
       "      <th>dst_bytes</th>\n",
       "      <th>land</th>\n",
       "      <th>wrong_fragment</th>\n",
       "      <th>urgent</th>\n",
       "      <th>hot</th>\n",
       "      <th>num_failed_logins</th>\n",
       "      <th>logged_in</th>\n",
       "      <th>num_compromised</th>\n",
       "      <th>...</th>\n",
       "      <th>dst_host_srv_count</th>\n",
       "      <th>dst_host_same_srv_rate</th>\n",
       "      <th>dst_host_diff_srv_rate</th>\n",
       "      <th>dst_host_same_src_port_rate</th>\n",
       "      <th>dst_host_srv_diff_host_rate</th>\n",
       "      <th>dst_host_serror_rate</th>\n",
       "      <th>dst_host_srv_serror_rate</th>\n",
       "      <th>dst_host_rerror_rate</th>\n",
       "      <th>dst_host_srv_rerror_rate</th>\n",
       "      <th>type</th>\n",
       "    </tr>\n",
       "  </thead>\n",
       "  <tbody>\n",
       "    <tr>\n",
       "      <th>0</th>\n",
       "      <td>0</td>\n",
       "      <td>181</td>\n",
       "      <td>5450</td>\n",
       "      <td>0</td>\n",
       "      <td>0</td>\n",
       "      <td>0</td>\n",
       "      <td>0</td>\n",
       "      <td>0</td>\n",
       "      <td>1</td>\n",
       "      <td>0</td>\n",
       "      <td>...</td>\n",
       "      <td>9</td>\n",
       "      <td>1.0</td>\n",
       "      <td>0.0</td>\n",
       "      <td>0.11</td>\n",
       "      <td>0.0</td>\n",
       "      <td>0.0</td>\n",
       "      <td>0.0</td>\n",
       "      <td>0.0</td>\n",
       "      <td>0.0</td>\n",
       "      <td>normal</td>\n",
       "    </tr>\n",
       "    <tr>\n",
       "      <th>1</th>\n",
       "      <td>0</td>\n",
       "      <td>239</td>\n",
       "      <td>486</td>\n",
       "      <td>0</td>\n",
       "      <td>0</td>\n",
       "      <td>0</td>\n",
       "      <td>0</td>\n",
       "      <td>0</td>\n",
       "      <td>1</td>\n",
       "      <td>0</td>\n",
       "      <td>...</td>\n",
       "      <td>19</td>\n",
       "      <td>1.0</td>\n",
       "      <td>0.0</td>\n",
       "      <td>0.05</td>\n",
       "      <td>0.0</td>\n",
       "      <td>0.0</td>\n",
       "      <td>0.0</td>\n",
       "      <td>0.0</td>\n",
       "      <td>0.0</td>\n",
       "      <td>normal</td>\n",
       "    </tr>\n",
       "    <tr>\n",
       "      <th>2</th>\n",
       "      <td>0</td>\n",
       "      <td>235</td>\n",
       "      <td>1337</td>\n",
       "      <td>0</td>\n",
       "      <td>0</td>\n",
       "      <td>0</td>\n",
       "      <td>0</td>\n",
       "      <td>0</td>\n",
       "      <td>1</td>\n",
       "      <td>0</td>\n",
       "      <td>...</td>\n",
       "      <td>29</td>\n",
       "      <td>1.0</td>\n",
       "      <td>0.0</td>\n",
       "      <td>0.03</td>\n",
       "      <td>0.0</td>\n",
       "      <td>0.0</td>\n",
       "      <td>0.0</td>\n",
       "      <td>0.0</td>\n",
       "      <td>0.0</td>\n",
       "      <td>normal</td>\n",
       "    </tr>\n",
       "    <tr>\n",
       "      <th>3</th>\n",
       "      <td>0</td>\n",
       "      <td>219</td>\n",
       "      <td>1337</td>\n",
       "      <td>0</td>\n",
       "      <td>0</td>\n",
       "      <td>0</td>\n",
       "      <td>0</td>\n",
       "      <td>0</td>\n",
       "      <td>1</td>\n",
       "      <td>0</td>\n",
       "      <td>...</td>\n",
       "      <td>39</td>\n",
       "      <td>1.0</td>\n",
       "      <td>0.0</td>\n",
       "      <td>0.03</td>\n",
       "      <td>0.0</td>\n",
       "      <td>0.0</td>\n",
       "      <td>0.0</td>\n",
       "      <td>0.0</td>\n",
       "      <td>0.0</td>\n",
       "      <td>normal</td>\n",
       "    </tr>\n",
       "    <tr>\n",
       "      <th>4</th>\n",
       "      <td>0</td>\n",
       "      <td>217</td>\n",
       "      <td>2032</td>\n",
       "      <td>0</td>\n",
       "      <td>0</td>\n",
       "      <td>0</td>\n",
       "      <td>0</td>\n",
       "      <td>0</td>\n",
       "      <td>1</td>\n",
       "      <td>0</td>\n",
       "      <td>...</td>\n",
       "      <td>49</td>\n",
       "      <td>1.0</td>\n",
       "      <td>0.0</td>\n",
       "      <td>0.02</td>\n",
       "      <td>0.0</td>\n",
       "      <td>0.0</td>\n",
       "      <td>0.0</td>\n",
       "      <td>0.0</td>\n",
       "      <td>0.0</td>\n",
       "      <td>normal</td>\n",
       "    </tr>\n",
       "  </tbody>\n",
       "</table>\n",
       "<p>5 rows × 39 columns</p>\n",
       "</div>"
      ],
      "text/plain": [
       "   duration  src_bytes  dst_bytes  land  wrong_fragment  urgent  hot  \\\n",
       "0         0        181       5450     0               0       0    0   \n",
       "1         0        239        486     0               0       0    0   \n",
       "2         0        235       1337     0               0       0    0   \n",
       "3         0        219       1337     0               0       0    0   \n",
       "4         0        217       2032     0               0       0    0   \n",
       "\n",
       "   num_failed_logins  logged_in  num_compromised   ...    dst_host_srv_count  \\\n",
       "0                  0          1                0   ...                     9   \n",
       "1                  0          1                0   ...                    19   \n",
       "2                  0          1                0   ...                    29   \n",
       "3                  0          1                0   ...                    39   \n",
       "4                  0          1                0   ...                    49   \n",
       "\n",
       "   dst_host_same_srv_rate  dst_host_diff_srv_rate  \\\n",
       "0                     1.0                     0.0   \n",
       "1                     1.0                     0.0   \n",
       "2                     1.0                     0.0   \n",
       "3                     1.0                     0.0   \n",
       "4                     1.0                     0.0   \n",
       "\n",
       "   dst_host_same_src_port_rate  dst_host_srv_diff_host_rate  \\\n",
       "0                         0.11                          0.0   \n",
       "1                         0.05                          0.0   \n",
       "2                         0.03                          0.0   \n",
       "3                         0.03                          0.0   \n",
       "4                         0.02                          0.0   \n",
       "\n",
       "   dst_host_serror_rate  dst_host_srv_serror_rate  dst_host_rerror_rate  \\\n",
       "0                   0.0                       0.0                   0.0   \n",
       "1                   0.0                       0.0                   0.0   \n",
       "2                   0.0                       0.0                   0.0   \n",
       "3                   0.0                       0.0                   0.0   \n",
       "4                   0.0                       0.0                   0.0   \n",
       "\n",
       "   dst_host_srv_rerror_rate    type  \n",
       "0                       0.0  normal  \n",
       "1                       0.0  normal  \n",
       "2                       0.0  normal  \n",
       "3                       0.0  normal  \n",
       "4                       0.0  normal  \n",
       "\n",
       "[5 rows x 39 columns]"
      ]
     },
     "execution_count": 24,
     "metadata": {},
     "output_type": "execute_result"
    }
   ],
   "source": [
    "http.head()"
   ]
  },
  {
   "cell_type": "code",
   "execution_count": 25,
   "metadata": {
    "collapsed": true
   },
   "outputs": [],
   "source": [
    "http_type = {}\n",
    "http_type[\"normal\"] = 1\n",
    "http_type[\"dos\"] = 0\n",
    "http_type[\"probe\"] = 0\n",
    "http_type[\"r2l\"] = 0"
   ]
  },
  {
   "cell_type": "code",
   "execution_count": 26,
   "metadata": {
    "collapsed": true
   },
   "outputs": [],
   "source": [
    "http_ = copy.deepcopy(http)"
   ]
  },
  {
   "cell_type": "code",
   "execution_count": 27,
   "metadata": {},
   "outputs": [
    {
     "name": "stderr",
     "output_type": "stream",
     "text": [
      "/Users/youqiao/env/anaconda3/lib/python3.6/site-packages/pandas/core/generic.py:3924: SettingWithCopyWarning: \n",
      "A value is trying to be set on a copy of a slice from a DataFrame\n",
      "\n",
      "See the caveats in the documentation: http://pandas.pydata.org/pandas-docs/stable/indexing.html#indexing-view-versus-copy\n",
      "  self._update_inplace(new_data)\n"
     ]
    }
   ],
   "source": [
    "http[\"type\"].replace(http_type, inplace=True)"
   ]
  },
  {
   "cell_type": "code",
   "execution_count": 28,
   "metadata": {
    "collapsed": true
   },
   "outputs": [],
   "source": [
    "http_type = {}\n",
    "http_type[\"normal\"] = 1\n",
    "http_type[\"dos\"] = 0\n",
    "http_type[\"probe\"] = 0\n",
    "http_type[\"r2l\"] = 0\n",
    "http_[\"type\"].replace(http_type, inplace=True)"
   ]
  },
  {
   "cell_type": "code",
   "execution_count": 29,
   "metadata": {},
   "outputs": [
    {
     "data": {
      "text/plain": [
       "1    61886\n",
       "0     2407\n",
       "Name: type, dtype: int64"
      ]
     },
     "execution_count": 29,
     "metadata": {},
     "output_type": "execute_result"
    }
   ],
   "source": [
    "http_[\"type\"].value_counts()"
   ]
  },
  {
   "cell_type": "code",
   "execution_count": 30,
   "metadata": {
    "collapsed": true
   },
   "outputs": [],
   "source": [
    "http_type = {}\n",
    "http_type[\"normal\"] = 1\n",
    "http_type[\"dos\"] = 0\n",
    "http_type[\"probe\"] = 0\n",
    "http_type[\"r2l\"] = 0\n",
    "http_type[\"apache2.\"] = 0\n",
    "http_type[\"saint.\"] = 0"
   ]
  },
  {
   "cell_type": "code",
   "execution_count": 31,
   "metadata": {},
   "outputs": [
    {
     "data": {
      "text/plain": [
       "type\n",
       "apache2.      794\n",
       "dos          1191\n",
       "normal      39247\n",
       "probe           2\n",
       "r2l             2\n",
       "saint.          1\n",
       "Name: type, dtype: int64"
      ]
     },
     "execution_count": 31,
     "metadata": {},
     "output_type": "execute_result"
    }
   ],
   "source": [
    "valset[\"type\"].groupby(valset[\"type\"]).count()"
   ]
  },
  {
   "cell_type": "code",
   "execution_count": 32,
   "metadata": {
    "collapsed": true
   },
   "outputs": [],
   "source": [
    "valset[\"type\"].replace(http_type, inplace=True)"
   ]
  },
  {
   "cell_type": "code",
   "execution_count": 33,
   "metadata": {},
   "outputs": [
    {
     "data": {
      "text/plain": [
       "(41237, 39)"
      ]
     },
     "execution_count": 33,
     "metadata": {},
     "output_type": "execute_result"
    }
   ],
   "source": [
    "valset.shape"
   ]
  },
  {
   "cell_type": "code",
   "execution_count": 34,
   "metadata": {},
   "outputs": [
    {
     "data": {
      "text/plain": [
       "array(['normal', 'u2r', 'dos', 'r2l', 'probe'], dtype=object)"
      ]
     },
     "execution_count": 34,
     "metadata": {},
     "output_type": "execute_result"
    }
   ],
   "source": [
    "kdd[\"type\"].unique()"
   ]
  },
  {
   "cell_type": "code",
   "execution_count": 35,
   "metadata": {
    "collapsed": true
   },
   "outputs": [],
   "source": [
    "norm_dos = [0, 1]"
   ]
  },
  {
   "cell_type": "code",
   "execution_count": 36,
   "metadata": {
    "collapsed": true
   },
   "outputs": [],
   "source": [
    "httpnd = http_[http_[\"type\"].isin(norm_dos)]"
   ]
  },
  {
   "cell_type": "markdown",
   "metadata": {},
   "source": [
    "# Classification"
   ]
  },
  {
   "cell_type": "code",
   "execution_count": 37,
   "metadata": {
    "collapsed": true
   },
   "outputs": [],
   "source": [
    "from sklearn.ensemble import RandomForestClassifier\n",
    "from sklearn.tree import DecisionTreeClassifier\n",
    "from sklearn.pipeline import Pipeline\n",
    "from sklearn.model_selection import GridSearchCV\n",
    "from sklearn.metrics import confusion_matrix\n",
    "from sklearn.metrics.cluster import fowlkes_mallows_score\n",
    "from sklearn.preprocessing import normalize, scale\n",
    "from matplotlib.collections import LineCollection\n",
    "from sklearn.metrics import euclidean_distances\n",
    "from sklearn.decomposition import PCA\n",
    "from sklearn.model_selection import train_test_split\n",
    "from sklearn.metrics import recall_score\n",
    "from sklearn.metrics import average_precision_score\n",
    "from sklearn.metrics import precision_score\n",
    "import matplotlib.cm as cm"
   ]
  },
  {
   "cell_type": "code",
   "execution_count": 38,
   "metadata": {
    "collapsed": true
   },
   "outputs": [],
   "source": [
    "def rfmodel(dat, val, n_est=10, cri=\"gini\", max_feat=\"auto\", max_dep=None, seed=36):\n",
    "    p = dat.shape[1]\n",
    "    X_train, X_test, y_train, y_test = train_test_split(\n",
    "        dat.iloc[:, :p-1], dat.iloc[:, p-1], test_size=0.25, random_state=seed, stratify=dat.iloc[:, p-1])\n",
    "    X_val, y_val = val.iloc[:, :-1], val.iloc[:, -1]\n",
    "    \n",
    "    stat = {\"accuracy\": [], \"precision\": [], \"recall\": []}\n",
    "    \n",
    "    start = time.time()\n",
    "    rf = RandomForestClassifier(n_estimators=n_est, criterion=cri, max_features=max_feat, max_depth=max_dep, n_jobs=-1)\n",
    "    rf.fit(X_train, y_train)\n",
    "    end = time.time()\n",
    "    time_consume = end - start\n",
    "    \n",
    "    feat_import = pd.DataFrame({\"Feature\": X_train.columns, \"Importance\": rf.feature_importances_})\\\n",
    "        .sort_values(\"Importance\", ascending=False)[:10]\n",
    "    \n",
    "    # predict train\n",
    "    pred = rf.predict(X_train)\n",
    "    accuracy = (pred == y_train).mean()\n",
    "    precision = precision_score(y_train, pred, pos_label=0)\n",
    "    recall = recall_score(y_train, pred, pos_label=0)\n",
    "    stat[\"accuracy\"].append(accuracy)\n",
    "    stat[\"precision\"].append(precision)\n",
    "    stat[\"recall\"].append(recall)\n",
    "    \n",
    "    # predict test\n",
    "    pred = rf.predict(X_test)\n",
    "    accuracy = (pred == y_test).mean()\n",
    "    precision = precision_score(y_test, pred, pos_label=0)\n",
    "    recall = recall_score(y_test, pred, pos_label=0)\n",
    "    stat[\"accuracy\"].append(accuracy)\n",
    "    stat[\"precision\"].append(precision)\n",
    "    stat[\"recall\"].append(recall)\n",
    "    print(confusion_matrix(y_test, pred))\n",
    "    \n",
    "    # predict val\n",
    "    rf.fit(dat.iloc[:, :p-1], dat.iloc[:, p-1])\n",
    "    pred = rf.predict(X_val)\n",
    "    accuracy = (pred == y_val).mean()\n",
    "    precision = precision_score(y_val, pred, pos_label=0)\n",
    "    recall = recall_score(y_val, pred, pos_label=0)\n",
    "    stat[\"accuracy\"].append(accuracy)\n",
    "    stat[\"precision\"].append(precision)\n",
    "    stat[\"recall\"].append(recall)\n",
    "    \n",
    "    return stat, time_consume, feat_import\n",
    "\n",
    "def dtmodel(dat, val, cri=\"gini\", max_feat=\"auto\", max_dep=None, seed=36):\n",
    "    p = dat.shape[1]\n",
    "    X_train, X_test, y_train, y_test = train_test_split(\n",
    "        dat.iloc[:, :p-1], dat.iloc[:, p-1], test_size=0.25, random_state=seed, stratify=dat.iloc[:, p-1])\n",
    "    X_val, y_val = val.iloc[:, :-1], val.iloc[:, -1]\n",
    "    \n",
    "    stat = {\"accuracy\": [], \"precision\": [], \"recall\": []}\n",
    "    \n",
    "    start = time.time()\n",
    "    rf = DecisionTreeClassifier(criterion=cri, max_features=max_feat, max_depth=max_dep)\n",
    "    rf.fit(X_train, y_train)\n",
    "    end = time.time()\n",
    "    time_consume = end - start\n",
    "    \n",
    "    feat_import = pd.DataFrame({\"Feature\": X_train.columns, \"Importance\": rf.feature_importances_})\\\n",
    "        .sort_values(\"Importance\", ascending=False)[:10]\n",
    "    \n",
    "    # predict train\n",
    "    pred = rf.predict(X_train)\n",
    "    accuracy = (pred == y_train).mean()\n",
    "    precision = precision_score(y_train, pred, pos_label=0)\n",
    "    recall = recall_score(y_train, pred, pos_label=0)\n",
    "    stat[\"accuracy\"].append(accuracy)\n",
    "    stat[\"precision\"].append(precision)\n",
    "    stat[\"recall\"].append(recall)\n",
    "    \n",
    "    # predict test\n",
    "    pred = rf.predict(X_test)\n",
    "    accuracy = (pred == y_test).mean()\n",
    "    precision = precision_score(y_test, pred, pos_label=0)\n",
    "    recall = recall_score(y_test, pred, pos_label=0)\n",
    "    stat[\"accuracy\"].append(accuracy)\n",
    "    stat[\"precision\"].append(precision)\n",
    "    stat[\"recall\"].append(recall)\n",
    "    print(confusion_matrix(y_test, pred))\n",
    "    \n",
    "    # predict val\n",
    "    rf.fit(dat.iloc[:, :p-1], dat.iloc[:, p-1])\n",
    "    pred = rf.predict(X_val)\n",
    "    accuracy = (pred == y_val).mean()\n",
    "    precision = precision_score(y_val, pred, pos_label=0)\n",
    "    recall = recall_score(y_val, pred, pos_label=0)\n",
    "    stat[\"accuracy\"].append(accuracy)\n",
    "    stat[\"precision\"].append(precision)\n",
    "    stat[\"recall\"].append(recall)\n",
    "    \n",
    "    return stat, time_consume, feat_import"
   ]
  },
  {
   "cell_type": "code",
   "execution_count": 39,
   "metadata": {},
   "outputs": [
    {
     "name": "stdout",
     "output_type": "stream",
     "text": [
      "[[  578    24]\n",
      " [   20 15452]]\n",
      "[[  599     3]\n",
      " [    1 15471]]\n",
      "[[  596     6]\n",
      " [    3 15469]]\n",
      "[[  597     5]\n",
      " [    1 15471]]\n",
      "[[  602     0]\n",
      " [    0 15472]]\n",
      "[[  601     1]\n",
      " [    0 15472]]\n",
      "[[  599     3]\n",
      " [    2 15470]]\n",
      "[[  600     2]\n",
      " [    8 15464]]\n",
      "[[  599     3]\n",
      " [    1 15471]]\n"
     ]
    }
   ],
   "source": [
    "train_recalls = []\n",
    "test_recalls = []\n",
    "train_precisions = []\n",
    "test_precisions = []\n",
    "val_recalls = []\n",
    "val_precisions = []\n",
    "times = []\n",
    "for n in np.arange(2, 20, 2):\n",
    "    stat, time_consume, feat_import = dtmodel(http, valset, max_dep=n)\n",
    "    train_recalls.append(stat[\"recall\"][0])\n",
    "    train_precisions.append(stat[\"precision\"][0])\n",
    "    test_recalls.append(stat[\"recall\"][1])\n",
    "    test_precisions.append(stat[\"precision\"][1])\n",
    "    val_recalls.append(stat[\"recall\"][2])\n",
    "    val_precisions.append(stat[\"precision\"][2])"
   ]
  },
  {
   "cell_type": "code",
   "execution_count": 40,
   "metadata": {},
   "outputs": [
    {
     "data": {
      "text/plain": [
       "<matplotlib.legend.Legend at 0x1a32a872b0>"
      ]
     },
     "execution_count": 40,
     "metadata": {},
     "output_type": "execute_result"
    },
    {
     "data": {
      "image/png": "[encoded data removed]",
      "text/plain": [
       "<matplotlib.figure.Figure at 0x11efb42e8>"
      ]
     },
     "metadata": {},
     "output_type": "display_data"
    }
   ],
   "source": [
    "plt.title(\"Recall of max depth\")\n",
    "plt.xlabel(\"max depth\")\n",
    "plt.ylabel(\"Recall\")\n",
    "plt.plot(np.arange(2, 20, 2), val_recalls)\n",
    "plt.plot(np.arange(2, 20, 2), val_precisions)\n",
    "plt.plot(np.arange(2, 20, 2), test_recalls)\n",
    "plt.plot(np.arange(2, 20, 2), test_precisions)\n",
    "plt.legend([\"validation recall\", \"validation precision\", \"test recall\", \"test precision\"], loc='lower right')"
   ]
  },
  {
   "cell_type": "code",
   "execution_count": 41,
   "metadata": {},
   "outputs": [
    {
     "name": "stdout",
     "output_type": "stream",
     "text": [
      "[[  566    36]\n",
      " [    1 15471]]\n",
      "[[  601     1]\n",
      " [    0 15472]]\n",
      "[[  601     1]\n",
      " [    0 15472]]\n",
      "[[  602     0]\n",
      " [    0 15472]]\n",
      "[[  602     0]\n",
      " [    0 15472]]\n",
      "[[  601     1]\n",
      " [    0 15472]]\n",
      "[[  602     0]\n",
      " [    1 15471]]\n",
      "[[  601     1]\n",
      " [    0 15472]]\n",
      "[[  600     2]\n",
      " [    0 15472]]\n"
     ]
    },
    {
     "data": {
      "text/plain": [
       "<matplotlib.legend.Legend at 0x1a26fca908>"
      ]
     },
     "execution_count": 41,
     "metadata": {},
     "output_type": "execute_result"
    },
    {
     "data": {
      "image/png": "[encoded data removed]",
      "text/plain": [
       "<matplotlib.figure.Figure at 0x1a32a8f0b8>"
      ]
     },
     "metadata": {},
     "output_type": "display_data"
    }
   ],
   "source": [
    "train_recalls = []\n",
    "test_recalls = []\n",
    "train_precisions = []\n",
    "test_precisions = []\n",
    "val_recalls = []\n",
    "val_precisions = []\n",
    "times = []\n",
    "for n in np.arange(2, 20, 2):\n",
    "    stat, time_consume, feat_import = rfmodel(http, valset, max_dep=n)\n",
    "    train_recalls.append(stat[\"recall\"][0])\n",
    "    train_precisions.append(stat[\"precision\"][0])\n",
    "    test_recalls.append(stat[\"recall\"][1])\n",
    "    test_precisions.append(stat[\"precision\"][1])\n",
    "    val_recalls.append(stat[\"recall\"][2])\n",
    "    val_precisions.append(stat[\"precision\"][2])\n",
    "plt.title(\"Max depth in Random Forest\")\n",
    "plt.xlabel(\"max depth\")\n",
    "plt.ylabel(\"score\")\n",
    "plt.plot(np.arange(2, 20, 2), val_recalls)\n",
    "# plt.plot(np.arange(2, 20, 2), val_precisions)\n",
    "plt.plot(np.arange(2, 20, 2), test_recalls)\n",
    "# plt.plot(np.arange(2, 20, 2), test_precisions)\n",
    "plt.legend([\"test precision\", \"test recall\"], loc='lower right')"
   ]
  },
  {
   "cell_type": "code",
   "execution_count": 42,
   "metadata": {},
   "outputs": [
    {
     "name": "stdout",
     "output_type": "stream",
     "text": [
      "[[  601     1]\n",
      " [    0 15472]]\n",
      "[[  602     0]\n",
      " [    0 15472]]\n",
      "[[  602     0]\n",
      " [    0 15472]]\n",
      "[[  601     1]\n",
      " [    0 15472]]\n",
      "[[  602     0]\n",
      " [    0 15472]]\n",
      "[[  602     0]\n",
      " [    0 15472]]\n",
      "[[  602     0]\n",
      " [    0 15472]]\n",
      "[[  602     0]\n",
      " [    0 15472]]\n",
      "[[  602     0]\n",
      " [    0 15472]]\n",
      "[[  601     1]\n",
      " [    0 15472]]\n"
     ]
    },
    {
     "data": {
      "text/plain": [
       "<matplotlib.legend.Legend at 0x1a32ab60f0>"
      ]
     },
     "execution_count": 42,
     "metadata": {},
     "output_type": "execute_result"
    },
    {
     "data": {
      "image/png": "[encoded data removed]",
      "text/plain": [
       "<matplotlib.figure.Figure at 0x11b0b7048>"
      ]
     },
     "metadata": {},
     "output_type": "display_data"
    }
   ],
   "source": [
    "train_recalls = []\n",
    "test_recalls = []\n",
    "train_precisions = []\n",
    "test_precisions = []\n",
    "val_recalls = []\n",
    "val_precisions = []\n",
    "times = []\n",
    "for n in np.arange(10, 200, 20):\n",
    "    stat, time_consume, feat_import = rfmodel(http, valset, n_est=n)\n",
    "    train_recalls.append(stat[\"recall\"][0])\n",
    "    train_precisions.append(stat[\"precision\"][0])\n",
    "    test_recalls.append(stat[\"recall\"][1])\n",
    "    test_precisions.append(stat[\"precision\"][1])\n",
    "    val_recalls.append(stat[\"recall\"][2])\n",
    "    val_precisions.append(stat[\"precision\"][2])\n",
    "plt.title(\"Recall of n_estimators in Random Forest\")\n",
    "plt.xlabel(\"n_estimators\")\n",
    "plt.ylabel(\"Recall\")\n",
    "plt.ylim((0,1))\n",
    "plt.plot(np.arange(10, 200, 20), val_recalls)\n",
    "# plt.plot(np.arange(2, 20, 2), val_precisions)\n",
    "plt.plot(np.arange(10, 200, 20), test_recalls)\n",
    "# plt.plot(np.arange(2, 20, 2), test_precisions)\n",
    "plt.legend([\"validation recall\", \"test recall\"], loc='lower right')"
   ]
  },
  {
   "cell_type": "code",
   "execution_count": 136,
   "metadata": {},
   "outputs": [
    {
     "data": {
      "text/plain": [
       "DecisionTreeClassifier(class_weight=None, criterion='gini', max_depth=None,\n",
       "            max_features=None, max_leaf_nodes=None,\n",
       "            min_impurity_decrease=0.0, min_impurity_split=None,\n",
       "            min_samples_leaf=1, min_samples_split=2,\n",
       "            min_weight_fraction_leaf=0.0, presort=False, random_state=None,\n",
       "            splitter='best')"
      ]
     },
     "execution_count": 136,
     "metadata": {},
     "output_type": "execute_result"
    }
   ],
   "source": [
    "dt = DecisionTreeClassifier()\n",
    "dt.fit(http.iloc[:, :-1], http.iloc[:, -1])"
   ]
  },
  {
   "cell_type": "code",
   "execution_count": 143,
   "metadata": {},
   "outputs": [
    {
     "data": {
      "text/plain": [
       "Index(['duration', 'src_bytes', 'dst_bytes', 'land', 'wrong_fragment',\n",
       "       'urgent', 'hot', 'num_failed_logins', 'logged_in', 'num_compromised',\n",
       "       'root_shell', 'su_attempted', 'num_root', 'num_file_creations',\n",
       "       'num_shells', 'num_access_files', 'num_outbound_cmds', 'is_host_login',\n",
       "       'is_guest_login', 'count', 'srv_count', 'serror_rate',\n",
       "       'srv_serror_rate', 'rerror_rate', 'srv_rerror_rate', 'same_srv_rate',\n",
       "       'diff_srv_rate', 'srv_diff_host_rate', 'dst_host_count',\n",
       "       'dst_host_srv_count', 'dst_host_same_srv_rate',\n",
       "       'dst_host_diff_srv_rate', 'dst_host_same_src_port_rate',\n",
       "       'dst_host_srv_diff_host_rate', 'dst_host_serror_rate',\n",
       "       'dst_host_srv_serror_rate', 'dst_host_rerror_rate',\n",
       "       'dst_host_srv_rerror_rate'],\n",
       "      dtype='object')"
      ]
     },
     "execution_count": 143,
     "metadata": {},
     "output_type": "execute_result"
    }
   ],
   "source": [
    "http.columns[:-1]"
   ]
  },
  {
   "cell_type": "code",
   "execution_count": 144,
   "metadata": {
    "collapsed": true
   },
   "outputs": [],
   "source": [
    "export_graphviz(dt, out_file='tree.dot', feature_names=http.columns[:-1])"
   ]
  },
  {
   "cell_type": "code",
   "execution_count": 43,
   "metadata": {},
   "outputs": [
    {
     "name": "stdout",
     "output_type": "stream",
     "text": [
      "[[  600     2]\n",
      " [    0 15472]]\n"
     ]
    }
   ],
   "source": [
    "stat, time_consume, feat_import = rfmodel(http, valset, n_est=50, cri=\"gini\", max_dep=6, max_feat=7)"
   ]
  },
  {
   "cell_type": "code",
   "execution_count": 44,
   "metadata": {},
   "outputs": [
    {
     "data": {
      "text/plain": [
       "{'accuracy': [0.99997926128704451, 0.99987557546348138, 0.99362223246113923],\n",
       " 'precision': [1.0, 1.0, 0.99654974123059226],\n",
       " 'recall': [0.99944598337950141, 0.99667774086378735, 0.87085427135678395]}"
      ]
     },
     "execution_count": 44,
     "metadata": {},
     "output_type": "execute_result"
    }
   ],
   "source": [
    "stat"
   ]
  },
  {
   "cell_type": "code",
   "execution_count": 45,
   "metadata": {},
   "outputs": [
    {
     "data": {
      "text/html": [
       "<div>\n",
       "<style>\n",
       "    .dataframe thead tr:only-child th {\n",
       "        text-align: right;\n",
       "    }\n",
       "\n",
       "    .dataframe thead th {\n",
       "        text-align: left;\n",
       "    }\n",
       "\n",
       "    .dataframe tbody tr th {\n",
       "        vertical-align: top;\n",
       "    }\n",
       "</style>\n",
       "<table border=\"1\" class=\"dataframe\">\n",
       "  <thead>\n",
       "    <tr style=\"text-align: right;\">\n",
       "      <th></th>\n",
       "      <th>Feature</th>\n",
       "      <th>Importance</th>\n",
       "    </tr>\n",
       "  </thead>\n",
       "  <tbody>\n",
       "    <tr>\n",
       "      <th>9</th>\n",
       "      <td>num_compromised</td>\n",
       "      <td>0.317384</td>\n",
       "    </tr>\n",
       "    <tr>\n",
       "      <th>1</th>\n",
       "      <td>src_bytes</td>\n",
       "      <td>0.284705</td>\n",
       "    </tr>\n",
       "    <tr>\n",
       "      <th>6</th>\n",
       "      <td>hot</td>\n",
       "      <td>0.159951</td>\n",
       "    </tr>\n",
       "    <tr>\n",
       "      <th>37</th>\n",
       "      <td>dst_host_srv_rerror_rate</td>\n",
       "      <td>0.042534</td>\n",
       "    </tr>\n",
       "    <tr>\n",
       "      <th>36</th>\n",
       "      <td>dst_host_rerror_rate</td>\n",
       "      <td>0.041700</td>\n",
       "    </tr>\n",
       "    <tr>\n",
       "      <th>2</th>\n",
       "      <td>dst_bytes</td>\n",
       "      <td>0.023855</td>\n",
       "    </tr>\n",
       "    <tr>\n",
       "      <th>30</th>\n",
       "      <td>dst_host_same_srv_rate</td>\n",
       "      <td>0.018523</td>\n",
       "    </tr>\n",
       "    <tr>\n",
       "      <th>25</th>\n",
       "      <td>same_srv_rate</td>\n",
       "      <td>0.015719</td>\n",
       "    </tr>\n",
       "    <tr>\n",
       "      <th>33</th>\n",
       "      <td>dst_host_srv_diff_host_rate</td>\n",
       "      <td>0.014861</td>\n",
       "    </tr>\n",
       "    <tr>\n",
       "      <th>26</th>\n",
       "      <td>diff_srv_rate</td>\n",
       "      <td>0.011242</td>\n",
       "    </tr>\n",
       "  </tbody>\n",
       "</table>\n",
       "</div>"
      ],
      "text/plain": [
       "                        Feature  Importance\n",
       "9               num_compromised    0.317384\n",
       "1                     src_bytes    0.284705\n",
       "6                           hot    0.159951\n",
       "37     dst_host_srv_rerror_rate    0.042534\n",
       "36         dst_host_rerror_rate    0.041700\n",
       "2                     dst_bytes    0.023855\n",
       "30       dst_host_same_srv_rate    0.018523\n",
       "25                same_srv_rate    0.015719\n",
       "33  dst_host_srv_diff_host_rate    0.014861\n",
       "26                diff_srv_rate    0.011242"
      ]
     },
     "execution_count": 45,
     "metadata": {},
     "output_type": "execute_result"
    }
   ],
   "source": [
    "feat_import"
   ]
  },
  {
   "cell_type": "code",
   "execution_count": 46,
   "metadata": {},
   "outputs": [
    {
     "data": {
      "image/png": "[encoded data removed]",
      "text/plain": [
       "<matplotlib.figure.Figure at 0x1a32a55780>"
      ]
     },
     "metadata": {},
     "output_type": "display_data"
    }
   ],
   "source": [
    "sns.set_style(\"whitegrid\")\n",
    "plt.title(\"Top 5 Feature Importance\")\n",
    "ax = sns.barplot(x=\"Feature\", y=\"Importance\", data=feat_import.iloc[:5, :])"
   ]
  },
  {
   "cell_type": "code",
   "execution_count": 47,
   "metadata": {},
   "outputs": [
    {
     "data": {
      "text/plain": [
       "{'accuracy': [0.99997926128704451, 0.99987557546348138, 0.99362223246113923],\n",
       " 'precision': [1.0, 1.0, 0.99654974123059226],\n",
       " 'recall': [0.99944598337950141, 0.99667774086378735, 0.87085427135678395]}"
      ]
     },
     "execution_count": 47,
     "metadata": {},
     "output_type": "execute_result"
    }
   ],
   "source": [
    "stat"
   ]
  },
  {
   "cell_type": "code",
   "execution_count": 48,
   "metadata": {},
   "outputs": [
    {
     "name": "stdout",
     "output_type": "stream",
     "text": [
      "[[  571    31]\n",
      " [   16 15456]]\n",
      "[[  593     9]\n",
      " [    0 15472]]\n",
      "[[  587    15]\n",
      " [    0 15472]]\n",
      "[[  601     1]\n",
      " [    1 15471]]\n",
      "[[  600     2]\n",
      " [    0 15472]]\n",
      "[[  600     2]\n",
      " [    0 15472]]\n",
      "[[  602     0]\n",
      " [    0 15472]]\n",
      "[[  597     5]\n",
      " [    4 15468]]\n",
      "[[  597     5]\n",
      " [    0 15472]]\n"
     ]
    },
    {
     "data": {
      "text/plain": [
       "<matplotlib.legend.Legend at 0x117d9fa20>"
      ]
     },
     "execution_count": 48,
     "metadata": {},
     "output_type": "execute_result"
    },
    {
     "data": {
      "image/png": "[encoded data removed]",
      "text/plain": [
       "<matplotlib.figure.Figure at 0x11f11f898>"
      ]
     },
     "metadata": {},
     "output_type": "display_data"
    }
   ],
   "source": [
    "train_recalls = []\n",
    "test_recalls = []\n",
    "train_precisions = []\n",
    "test_precisions = []\n",
    "val_recalls = []\n",
    "val_precisions = []\n",
    "times = []\n",
    "for n in np.arange(2, 11, 1):\n",
    "    stat, time_consume, feat_import = dtmodel(http, valset, max_dep=n)\n",
    "    train_recalls.append(stat[\"recall\"][0])\n",
    "    train_precisions.append(stat[\"precision\"][0])\n",
    "    test_recalls.append(stat[\"recall\"][1])\n",
    "    test_precisions.append(stat[\"precision\"][1])\n",
    "    val_recalls.append(stat[\"recall\"][2])\n",
    "    val_precisions.append(stat[\"precision\"][2])\n",
    "plt.title(\"Recall of max_depth in Random Forest\")\n",
    "plt.xlabel(\"max_depth\")\n",
    "plt.ylabel(\"Recall\")\n",
    "plt.plot(np.arange(2, 11, 1), val_recalls)\n",
    "# plt.plot(np.arange(2, 20, 2), val_precisions)\n",
    "plt.plot(np.arange(2, 11, 1), test_recalls)\n",
    "# plt.plot(np.arange(2, 20, 2), test_precisions)\n",
    "plt.legend([\"validation recall\", \"test recall\"], loc='lower right')"
   ]
  },
  {
   "cell_type": "code",
   "execution_count": 49,
   "metadata": {},
   "outputs": [
    {
     "name": "stdout",
     "output_type": "stream",
     "text": [
      "[[  602     0]\n",
      " [    3 15469]]\n"
     ]
    }
   ],
   "source": [
    "stat, time_consume, feat_import = dtmodel(http, valset, cri=\"gini\", max_dep=8, max_feat=\"auto\")"
   ]
  },
  {
   "cell_type": "code",
   "execution_count": 50,
   "metadata": {},
   "outputs": [
    {
     "data": {
      "text/plain": [
       "{'accuracy': [0.99997926128704451, 0.99981336319522207, 0.97618643451269493],\n",
       " 'precision': [0.99944629014396458, 0.99504132231404963, 0.96238532110091746],\n",
       " 'recall': [1.0, 1.0, 0.52713567839195985]}"
      ]
     },
     "execution_count": 50,
     "metadata": {},
     "output_type": "execute_result"
    }
   ],
   "source": [
    "stat"
   ]
  },
  {
   "cell_type": "code",
   "execution_count": 51,
   "metadata": {},
   "outputs": [
    {
     "name": "stdout",
     "output_type": "stream",
     "text": [
      "             precision    recall  f1-score   support\n",
      "\n",
      "          0       0.00      0.00      0.00       602\n",
      "          1       0.96      1.00      0.98     15472\n",
      "\n",
      "avg / total       0.93      0.96      0.94     16074\n",
      "\n",
      "[[    0   602]\n",
      " [    0 15472]]\n"
     ]
    },
    {
     "name": "stderr",
     "output_type": "stream",
     "text": [
      "/Users/youqiao/env/anaconda3/lib/python3.6/site-packages/sklearn/metrics/classification.py:1135: UndefinedMetricWarning: Precision and F-score are ill-defined and being set to 0.0 in labels with no predicted samples.\n",
      "  'precision', 'predicted', average, warn_for)\n"
     ]
    }
   ],
   "source": [
    "# split the dataset in training and test set:\n",
    "p = http.shape[1]\n",
    "X_train, X_test, y_train, y_test = train_test_split(\n",
    "        http.iloc[:, :p-1], http.iloc[:, p-1], test_size=0.25, stratify=http.iloc[:, p-1])\n",
    "\n",
    "# TASK: Build a vectorizer / classifier pipeline that filters out tokens\n",
    "# that are too rare or too frequent\n",
    "pipeline = Pipeline([\n",
    "        ('rf', RandomForestClassifier(n_jobs=-1)),\n",
    "    ])\n",
    "\n",
    "# TASK: Build a grid search to find out whether unigrams or bigrams are\n",
    "# more useful.\n",
    "# Fit the pipeline on the training set using grid search for the parameters\n",
    "parameters = {\n",
    "        'rf__n_estimators': [10, 30, 50],\n",
    "        'rf__criterion': [\"gini\", \"entropy\"],\n",
    "        'rf__max_features': [\"auto\", \"log2\", None],\n",
    "        'rf__max_depth': [1, 2, 4, 8, 16, 32],\n",
    "    }\n",
    "grid_search = GridSearchCV(pipeline, parameters, scoring=\"recall\", n_jobs=-1)\n",
    "grid_search.fit(X_train, y_train)\n",
    "\n",
    "# TASK: print the mean and std for each candidate along with the parameter\n",
    "# settings for all the candidates explored by grid search.\n",
    "# n_candidates = len(grid_search.cv_results_['params'])\n",
    "# for i in range(n_candidates):\n",
    "#     print(i, 'params - %s; mean - %0.2f; std - %0.2f'\n",
    "#                  % (grid_search.cv_results_['params'][i],\n",
    "#                     grid_search.cv_results_['mean_test_score'][i],\n",
    "#                     grid_search.cv_results_['std_test_score'][i]))\n",
    "\n",
    "# TASK: Predict the outcome on the testing set and store it in a variable\n",
    "# named y_predicted\n",
    "y_predicted = grid_search.predict(X_test)\n",
    "\n",
    "# Print the classification report\n",
    "print(metrics.classification_report(y_test, y_predicted))\n",
    "\n",
    "# Print and plot the confusion matrix\n",
    "cm = metrics.confusion_matrix(y_test, y_predicted)\n",
    "print(cm)"
   ]
  },
  {
   "cell_type": "code",
   "execution_count": 52,
   "metadata": {},
   "outputs": [
    {
     "data": {
      "text/plain": [
       "Pipeline(memory=None,\n",
       "     steps=[('rf', RandomForestClassifier(bootstrap=True, class_weight=None, criterion='gini',\n",
       "            max_depth=1, max_features='auto', max_leaf_nodes=None,\n",
       "            min_impurity_decrease=0.0, min_impurity_split=None,\n",
       "            min_samples_leaf=1, min_samples_split=2,\n",
       "            min_weight_fraction_leaf=0.0, n_estimators=10, n_jobs=-1,\n",
       "            oob_score=False, random_state=None, verbose=0,\n",
       "            warm_start=False))])"
      ]
     },
     "execution_count": 52,
     "metadata": {},
     "output_type": "execute_result"
    }
   ],
   "source": [
    "grid_search.best_estimator_"
   ]
  },
  {
   "cell_type": "code",
   "execution_count": 53,
   "metadata": {},
   "outputs": [
    {
     "data": {
      "image/png": "[encoded data removed]",
      "text/plain": [
       "<matplotlib.figure.Figure at 0x1a27f2e358>"
      ]
     },
     "metadata": {},
     "output_type": "display_data"
    }
   ],
   "source": [
    "plt.title('Distribution of src_bytes')\n",
    "sns.distplot(http[http[\"type\"] == 1][\"src_bytes\"])\n",
    "sns.distplot(http[http[\"type\"] == 0][\"src_bytes\"])\n",
    "plt.legend([\"Normal\", \"Intrusion\"], loc='upper center')\n",
    "plt.show()"
   ]
  },
  {
   "cell_type": "code",
   "execution_count": 54,
   "metadata": {},
   "outputs": [
    {
     "data": {
      "image/png": "[encoded data removed]",
      "text/plain": [
       "<matplotlib.figure.Figure at 0x1a27199908>"
      ]
     },
     "metadata": {},
     "output_type": "display_data"
    }
   ],
   "source": [
    "plt.title('Distribution of src_bytes')\n",
    "sns.distplot(valset[valset[\"type\"] == 1][\"src_bytes\"])\n",
    "sns.distplot(valset[valset[\"type\"] == 0][\"src_bytes\"])\n",
    "plt.legend([\"Normal\", \"Intrusion\"], loc='upper center')\n",
    "plt.show()"
   ]
  },
  {
   "cell_type": "code",
   "execution_count": 178,
   "metadata": {
    "collapsed": true
   },
   "outputs": [],
   "source": [
    "from sklearn.ensemble import IsolationForest\n",
    "def isfmodel(dat, val, n_est=100, max_samp=\"auto\", contam=0.1, max_feat=1.0, seed=36):\n",
    "    stat = {\"accuracy\": [], \"precision\": [], \"recall\": []}\n",
    "    X = dat.iloc[:, :-1]\n",
    "    y = dat.iloc[:, -1]\n",
    "    start = time.time()\n",
    "    isf = IsolationForest(n_estimators=n_est, max_samples=max_samp, contamination=contam, max_features=max_feat, n_jobs=-1)\n",
    "    isf.fit(X)\n",
    "    end = time.time()\n",
    "    time_consume = end - start\n",
    "    # predict train\n",
    "    pred = isf.predict(X)\n",
    "    np.place(pred, pred==-1, 0)\n",
    "    accuracy = (pred == y).mean()\n",
    "    precision = precision_score(y, pred, pos_label=0)\n",
    "    recall = recall_score(y, pred, pos_label=0)\n",
    "    #print(\"Test\")\n",
    "    #print(confusion_matrix(y, pred))\n",
    "    stat[\"accuracy\"].append(accuracy)\n",
    "    stat[\"precision\"].append(precision)\n",
    "    stat[\"recall\"].append(recall)\n",
    "\n",
    "    # predict val\n",
    "    X_val = val.iloc[:, :-1]\n",
    "    y_val = val.iloc[:, -1]\n",
    "    pred = isf.predict(X_val)\n",
    "    np.place(pred, pred==-1, 0)\n",
    "    accuracy = (pred == y_val).mean()\n",
    "    precision = precision_score(y_val, pred, pos_label=0)\n",
    "    recall = recall_score(y_val, pred, pos_label=0)\n",
    "    stat[\"accuracy\"].append(accuracy)\n",
    "    stat[\"precision\"].append(precision)\n",
    "    stat[\"recall\"].append(recall)\n",
    "    #print(\"Val\")\n",
    "    #print(confusion_matrix(y_val, pred))\n",
    "    return stat, time_consume"
   ]
  },
  {
   "cell_type": "code",
   "execution_count": 165,
   "metadata": {},
   "outputs": [
    {
     "name": "stdout",
     "output_type": "stream",
     "text": [
      "Test\n",
      "[[ 2027   380]\n",
      " [ 3123 58763]]\n",
      "Val\n",
      "[[ 1987     3]\n",
      " [ 1312 37935]]\n"
     ]
    }
   ],
   "source": [
    "stat, time_consume = isfmodel(http, valset, contam=0.08, n_est=100)"
   ]
  },
  {
   "cell_type": "code",
   "execution_count": 180,
   "metadata": {},
   "outputs": [
    {
     "data": {
      "text/plain": [
       "[<matplotlib.lines.Line2D at 0x1a34e81a20>]"
      ]
     },
     "execution_count": 180,
     "metadata": {},
     "output_type": "execute_result"
    },
    {
     "data": {
      "image/png": "[encoded data removed]",
      "text/plain": [
       "<matplotlib.figure.Figure at 0x119142d30>"
      ]
     },
     "metadata": {},
     "output_type": "display_data"
    }
   ],
   "source": [
    "pres = []\n",
    "recs = []\n",
    "for i in np.arange(0.01, 0.2, 0.02):\n",
    "    stat, time_consume = isfmodel(http, valset, contam=0.08, n_est=100)\n",
    "    pres.append(stat[\"precision\"][1])\n",
    "    recs.append(stat[\"recall\"][1])\n",
    "plt.plot(np.arange(0.01, 0.2, 0.02), pres)\n",
    "plt.plot(np.arange(0.01, 0.2, 0.02), recs)"
   ]
  },
  {
   "cell_type": "code",
   "execution_count": 176,
   "metadata": {},
   "outputs": [
    {
     "data": {
      "text/plain": [
       "[0.29743390357698291,\n",
       " 0.31078717201166178,\n",
       " 0.3666407465007776,\n",
       " 0.41552423247731224,\n",
       " 0.35886469673405907,\n",
       " 0.20820373250388802,\n",
       " 0.40793036750483558,\n",
       " 0.27954898911353032,\n",
       " 0.29821150855365475,\n",
       " 0.37823234272481665]"
      ]
     },
     "execution_count": 176,
     "metadata": {},
     "output_type": "execute_result"
    }
   ],
   "source": [
    "pres"
   ]
  },
  {
   "cell_type": "code",
   "execution_count": 177,
   "metadata": {},
   "outputs": [
    {
     "data": {
      "text/plain": [
       "[0.63564603240548401,\n",
       " 0.66431242210220187,\n",
       " 0.78354798504362277,\n",
       " 0.894058994599086,\n",
       " 0.76692978811798918,\n",
       " 0.44495222268383883,\n",
       " 0.87619443290402987,\n",
       " 0.59742417947652682,\n",
       " 0.63730785209804741,\n",
       " 0.81429164935604492]"
      ]
     },
     "execution_count": 177,
     "metadata": {},
     "output_type": "execute_result"
    }
   ],
   "source": [
    "recs"
   ]
  },
  {
   "cell_type": "code",
   "execution_count": 299,
   "metadata": {},
   "outputs": [
    {
     "name": "stdout",
     "output_type": "stream",
     "text": [
      "0.991275446614\n",
      "0.309227579057\n"
     ]
    },
    {
     "data": {
      "image/png": "[encoded data removed]",
      "text/plain": [
       "<matplotlib.figure.Figure at 0x1a43d0a1d0>"
      ]
     },
     "metadata": {},
     "output_type": "display_data"
    }
   ],
   "source": [
    "isf = IsolationForest(n_estimators=1000, contamination=0.12, n_jobs=-1)\n",
    "isf.fit(http.iloc[:, :-1])\n",
    "y_pred_train = isf.predict(http.iloc[:, :-1])\n",
    "np.place(y_pred_train, y_pred_train==-1, 0)\n",
    "print(recall_score(http.iloc[:, -1], y_pred_train, pos_label=0))\n",
    "print(precision_score(http.iloc[:, -1], y_pred_train, pos_label=0))\n",
    "plot_confusion_matrix(confusion_matrix(http.iloc[:, -1], y_pred_train), [\"intrusion\", \"normal\"])"
   ]
  },
  {
   "cell_type": "markdown",
   "metadata": {},
   "source": [
    "# Clustering"
   ]
  },
  {
   "cell_type": "code",
   "execution_count": 261,
   "metadata": {
    "collapsed": true
   },
   "outputs": [],
   "source": [
    "from sklearn.cluster import KMeans, AgglomerativeClustering, DBSCAN\n",
    "import itertools\n",
    "def plot_confusion_matrix(cm, classes,\n",
    "                          title='Confusion matrix',\n",
    "                          cmap=plt.cm.Blues):\n",
    "    \"\"\"\n",
    "    This function prints and plots the confusion matrix.\n",
    "    Normalization can be applied by setting `normalize=True`.\n",
    "    \"\"\"\n",
    "    plt.imshow(cm, interpolation='nearest', cmap=cmap)\n",
    "    plt.title(title)\n",
    "    plt.colorbar()\n",
    "    tick_marks = np.arange(len(classes))\n",
    "    plt.xticks(tick_marks, classes, rotation=45)\n",
    "    plt.yticks(tick_marks, classes)\n",
    "\n",
    "    fmt = '.2f' if normalize else 'd'\n",
    "    thresh = cm.max() / 2.\n",
    "    for i, j in itertools.product(range(cm.shape[0]), range(cm.shape[1])):\n",
    "        plt.text(j, i, format(cm[i, j], fmt),\n",
    "                 horizontalalignment=\"center\",\n",
    "                 color=\"white\" if cm[i, j] > thresh else \"black\")\n",
    "\n",
    "    plt.tight_layout()\n",
    "    plt.ylabel('True label')\n",
    "    plt.xlabel('Predicted label')"
   ]
  },
  {
   "cell_type": "code",
   "execution_count": null,
   "metadata": {
    "collapsed": true
   },
   "outputs": [],
   "source": []
  },
  {
   "cell_type": "code",
   "execution_count": 128,
   "metadata": {
    "collapsed": true
   },
   "outputs": [],
   "source": [
    "httpsp = http.sample(frac=0.01, random_state=33)"
   ]
  },
  {
   "cell_type": "code",
   "execution_count": 129,
   "metadata": {
    "collapsed": true
   },
   "outputs": [],
   "source": [
    "httpsp.reset_index(inplace=True)"
   ]
  },
  {
   "cell_type": "code",
   "execution_count": 130,
   "metadata": {},
   "outputs": [
    {
     "data": {
      "text/plain": [
       "[]"
      ]
     },
     "execution_count": 130,
     "metadata": {},
     "output_type": "execute_result"
    },
    {
     "data": {
      "image/png": "[encoded data removed]",
      "text/plain": [
       "<matplotlib.figure.Figure at 0x1c5b577eb8>"
      ]
     },
     "metadata": {},
     "output_type": "display_data"
    }
   ],
   "source": [
    "fig, ax = plt.subplots()\n",
    "similarities = euclidean_distances(httpsp.iloc[:, :-1])\n",
    "\n",
    "mds = manifold.MDS(n_components=2, max_iter=3000, eps=1e-9,\n",
    "                   dissimilarity=\"precomputed\", n_jobs=1)\n",
    "pos = mds.fit(similarities).embedding_\n",
    "df_pos = pd.DataFrame(pos, columns=[\"comp1\", \"comp2\"])\n",
    "df_pos[\"pred\"] = httpsp.iloc[:, -1]\n",
    "\n",
    "for i in range(2):\n",
    "    color = cm.spectral(float(i) / 2)\n",
    "    ax.scatter(df_pos[df_pos[\"pred\"] == i].iloc[:, 0], df_pos[df_pos[\"pred\"] == i].iloc[:, 1], c=color)\n",
    "ax.set_title(\"The MDS visualization of the clustered data.\")\n",
    "ax.set_xlabel(\"1st MDS feature\")\n",
    "ax.set_ylabel(\"2nd MDS feature\")\n",
    "plt.plot()"
   ]
  },
  {
   "cell_type": "code",
   "execution_count": 132,
   "metadata": {
    "collapsed": true
   },
   "outputs": [],
   "source": [
    "# PCA\n",
    "from sklearn.decomposition import PCA\n",
    "pca = PCA(n_components=5)\n",
    "httppca = pca.fit_transform(http.iloc[:, :-1])"
   ]
  },
  {
   "cell_type": "code",
   "execution_count": 133,
   "metadata": {},
   "outputs": [
    {
     "name": "stdout",
     "output_type": "stream",
     "text": [
      "[  3.60787441e+08   9.63534115e+07   2.64188884e+04   1.11686903e+04\n",
      "   1.79444061e+03]\n"
     ]
    }
   ],
   "source": [
    "print(pca.explained_variance_ratio_)"
   ]
  },
  {
   "cell_type": "code",
   "execution_count": null,
   "metadata": {
    "collapsed": true
   },
   "outputs": [],
   "source": []
  },
  {
   "cell_type": "code",
   "execution_count": 66,
   "metadata": {
    "collapsed": true
   },
   "outputs": [],
   "source": [
    "httpc = http.iloc[:, :-1]"
   ]
  },
  {
   "cell_type": "code",
   "execution_count": 67,
   "metadata": {
    "collapsed": true
   },
   "outputs": [],
   "source": [
    "kmeans = KMeans(n_clusters=2, random_state=12)\n",
    "y_pred = kmeans.fit_predict(httpc)"
   ]
  },
  {
   "cell_type": "code",
   "execution_count": 68,
   "metadata": {},
   "outputs": [
    {
     "data": {
      "text/plain": [
       "0"
      ]
     },
     "execution_count": 68,
     "metadata": {},
     "output_type": "execute_result"
    }
   ],
   "source": [
    "(y_pred == 3).sum()"
   ]
  },
  {
   "cell_type": "code",
   "execution_count": 69,
   "metadata": {},
   "outputs": [
    {
     "name": "stdout",
     "output_type": "stream",
     "text": [
      "Labels distribution: \n",
      "type\n",
      "0     2407\n",
      "1    61886\n",
      "Name: type, dtype: int64\n"
     ]
    }
   ],
   "source": [
    "cluster = Clustering(http, http.iloc[:, :-1], \"type\", len(http.columns) - 1, 1)"
   ]
  },
  {
   "cell_type": "code",
   "execution_count": 263,
   "metadata": {},
   "outputs": [
    {
     "name": "stdout",
     "output_type": "stream",
     "text": [
      "1.5209441184997559\n",
      "Summary: \n",
      "KMeans, k=4 \n",
      "SSE: 4671031349360.1279 \n",
      "Cluster 0: Counter({1: 61822, 0: 217})\n",
      "Cluster 1: Counter({1: 1})\n",
      "Cluster 2: Counter({0: 2190})\n",
      "Cluster 3: Counter({1: 63})\n",
      "\n"
     ]
    }
   ],
   "source": [
    "start = time.time()\n",
    "categories, y_pred, cluster_centers_, sse, summary = cluster.KMeans_fit_predict(4, preproc=0)\n",
    "end = time.time()\n",
    "print(end - start)\n",
    "print(summary)"
   ]
  },
  {
   "cell_type": "code",
   "execution_count": 90,
   "metadata": {},
   "outputs": [
    {
     "name": "stderr",
     "output_type": "stream",
     "text": [
      "/Users/youqiao/env/anaconda3/lib/python3.6/site-packages/sklearn/metrics/cluster/supervised.py:859: RuntimeWarning: overflow encountered in long_scalars\n",
      "  return tk / np.sqrt(pk * qk) if tk != 0. else 0.\n",
      "/Users/youqiao/env/anaconda3/lib/python3.6/site-packages/sklearn/metrics/cluster/supervised.py:859: RuntimeWarning: invalid value encountered in sqrt\n",
      "  return tk / np.sqrt(pk * qk) if tk != 0. else 0.\n"
     ]
    }
   ],
   "source": [
    "from sklearn.metrics import homogeneity_score\n",
    "range_n_clusters = [2,3,4,5,6,7]\n",
    "cluster_labelss = []\n",
    "sses = []\n",
    "nmis = []\n",
    "purities = []\n",
    "fms = []\n",
    "hs = []\n",
    "usedtime = []\n",
    "for k in range_n_clusters:\n",
    "    start = time.time()\n",
    "    categories, y_pred, cluster_centers_, sse, summary = cluster.KMeans_fit_predict(k, preproc=2)\n",
    "    end = time.time()\n",
    "    usedtime.append(end - start)\n",
    "    cluster_labelss.append(y_pred)\n",
    "    sses.append(sse)\n",
    "    nmi, purity, fowlkes_mallows = cluster.externalEval(y_pred, cluster.label)\n",
    "    nmis.append(nmi)\n",
    "    hs.append(homogeneity_score(y_pred, cluster.label))\n",
    "    purities.append(purity)\n",
    "    fms.append(fowlkes_mallows)\n",
    "# clustering.silhouette(range_n_clusters, cluster_labelss)"
   ]
  },
  {
   "cell_type": "code",
   "execution_count": 91,
   "metadata": {},
   "outputs": [
    {
     "data": {
      "image/png": "[encoded data removed]",
      "text/plain": [
       "<matplotlib.figure.Figure at 0x1a29334a90>"
      ]
     },
     "metadata": {},
     "output_type": "display_data"
    }
   ],
   "source": [
    "visualization().Comparingplot(range_n_clusters, sses, nmis, purities, hs)"
   ]
  },
  {
   "cell_type": "code",
   "execution_count": 89,
   "metadata": {},
   "outputs": [
    {
     "data": {
      "image/png": "[encoded data removed]",
      "text/plain": [
       "<matplotlib.figure.Figure at 0x1a2801a1d0>"
      ]
     },
     "metadata": {},
     "output_type": "display_data"
    }
   ],
   "source": [
    "visualization().Comparingplot(range_n_clusters, sses, nmis, purities, hs)"
   ]
  },
  {
   "cell_type": "code",
   "execution_count": 87,
   "metadata": {},
   "outputs": [
    {
     "data": {
      "image/png": "[encoded data removed]",
      "text/plain": [
       "<matplotlib.figure.Figure at 0x1a271b2cc0>"
      ]
     },
     "metadata": {},
     "output_type": "display_data"
    }
   ],
   "source": [
    "visualization().Comparingplot(range_n_clusters, sses, nmis, purities, hs)"
   ]
  },
  {
   "cell_type": "code",
   "execution_count": 73,
   "metadata": {},
   "outputs": [
    {
     "data": {
      "text/plain": [
       "[<matplotlib.lines.Line2D at 0x1a2700bcf8>]"
      ]
     },
     "execution_count": 73,
     "metadata": {},
     "output_type": "execute_result"
    },
    {
     "data": {
      "image/png": "[encoded data removed]",
      "text/plain": [
       "<matplotlib.figure.Figure at 0x1a3283d550>"
      ]
     },
     "metadata": {},
     "output_type": "display_data"
    }
   ],
   "source": [
    "plt.title(\"SSE\")\n",
    "plt.xlabel(\"num of clusters\")\n",
    "plt.ylabel(\"SSE\")\n",
    "plt.plot(range_n_clusters, sses)"
   ]
  },
  {
   "cell_type": "code",
   "execution_count": 222,
   "metadata": {},
   "outputs": [
    {
     "data": {
      "text/plain": [
       "[<matplotlib.lines.Line2D at 0x1e832f35c0>]"
      ]
     },
     "execution_count": 222,
     "metadata": {},
     "output_type": "execute_result"
    },
    {
     "data": {
      "image/png": "[encoded data removed]",
      "text/plain": [
       "<matplotlib.figure.Figure at 0x1ec2debef0>"
      ]
     },
     "metadata": {},
     "output_type": "display_data"
    }
   ],
   "source": [
    "k = 10\n",
    "nbrs = NearestNeighbors(n_neighbors=k).fit(http.iloc[:, :-1])\n",
    "distances, indices = nbrs.kneighbors(http.iloc[:, :-1])\n",
    "dist = distances[:, k-1]\n",
    "dist.sort()\n",
    "plt.title(\"K-dist when K=%r\" % k)\n",
    "plt.xlabel(\"Points sorted according to distance of %rth nearest neighbor\" %k)\n",
    "plt.ylabel(\"%rth nearest neighbor distance\" %k)\n",
    "plt.ylim((0, 50000))\n",
    "plt.plot(np.arange(0, len(dist)), dist)"
   ]
  },
  {
   "cell_type": "code",
   "execution_count": 220,
   "metadata": {},
   "outputs": [
    {
     "data": {
      "text/plain": [
       "[<matplotlib.lines.Line2D at 0x1ec2db2c88>]"
      ]
     },
     "execution_count": 220,
     "metadata": {},
     "output_type": "execute_result"
    },
    {
     "data": {
      "image/png": "[encoded data removed]",
      "text/plain": [
       "<matplotlib.figure.Figure at 0x1a3e66d2b0>"
      ]
     },
     "metadata": {},
     "output_type": "display_data"
    }
   ],
   "source": [
    "plt.title(\"K-dist when K=%r\" % k)\n",
    "plt.xlabel(\"Points sorted according to distance of %rth nearest neighbor\" %k)\n",
    "plt.ylabel(\"%rth nearest neighbor distance\" %k)\n",
    "plt.ylim((0, 500))\n",
    "plt.plot(np.arange(0, len(dist)), dist)"
   ]
  },
  {
   "cell_type": "code",
   "execution_count": 76,
   "metadata": {},
   "outputs": [
    {
     "data": {
      "text/plain": [
       "(64293,)"
      ]
     },
     "execution_count": 76,
     "metadata": {},
     "output_type": "execute_result"
    }
   ],
   "source": [
    "dist.shape"
   ]
  },
  {
   "cell_type": "code",
   "execution_count": 227,
   "metadata": {},
   "outputs": [
    {
     "name": "stdout",
     "output_type": "stream",
     "text": [
      "34.60811185836792\n"
     ]
    }
   ],
   "source": [
    "start = time.time()\n",
    "categories, y_pred, cluster_centers_, sse, summary = \\\n",
    "cluster.DBSCAN_fit_predict(eps=80, min_s=10, preproc=0)\n",
    "end = time.time()\n",
    "print(end - start)\n",
    "# visualization().visualizeData(cluster_centers_, summary)"
   ]
  },
  {
   "cell_type": "code",
   "execution_count": 228,
   "metadata": {},
   "outputs": [
    {
     "name": "stdout",
     "output_type": "stream",
     "text": [
      "Summary: \n",
      "DBSCAN \n",
      "SSE: 20656859360413.941 \n",
      "Cluster -1: Counter({1: 2796, 0: 70})\n",
      "Cluster 0: Counter({1: 52321})\n",
      "Cluster 1: Counter({1: 24})\n",
      "Cluster 2: Counter({1: 35})\n",
      "Cluster 3: Counter({1: 29})\n",
      "Cluster 4: Counter({1: 67})\n",
      "Cluster 5: Counter({1: 23})\n",
      "Cluster 6: Counter({1: 20})\n",
      "Cluster 7: Counter({1: 55})\n",
      "Cluster 8: Counter({1: 31})\n",
      "Cluster 9: Counter({1: 18})\n",
      "Cluster 10: Counter({1: 26})\n",
      "Cluster 11: Counter({1: 63})\n",
      "Cluster 12: Counter({1: 11})\n",
      "Cluster 13: Counter({1: 21})\n",
      "Cluster 14: Counter({1: 14})\n",
      "Cluster 15: Counter({1: 21})\n",
      "Cluster 16: Counter({1: 21})\n",
      "Cluster 17: Counter({1: 26})\n",
      "Cluster 18: Counter({1: 14})\n",
      "Cluster 19: Counter({1: 49})\n",
      "Cluster 20: Counter({1: 21})\n",
      "Cluster 21: Counter({1: 25})\n",
      "Cluster 22: Counter({1: 26})\n",
      "Cluster 23: Counter({1: 13})\n",
      "Cluster 24: Counter({1: 34})\n",
      "Cluster 25: Counter({1: 21})\n",
      "Cluster 26: Counter({1: 17})\n",
      "Cluster 27: Counter({1: 24})\n",
      "Cluster 28: Counter({1: 76})\n",
      "Cluster 29: Counter({1: 16})\n",
      "Cluster 30: Counter({1: 54})\n",
      "Cluster 31: Counter({1: 25})\n",
      "Cluster 32: Counter({1: 14})\n",
      "Cluster 33: Counter({1: 23})\n",
      "Cluster 34: Counter({1: 10})\n",
      "Cluster 35: Counter({1: 101})\n",
      "Cluster 36: Counter({1: 15})\n",
      "Cluster 37: Counter({1: 14})\n",
      "Cluster 38: Counter({1: 15})\n",
      "Cluster 39: Counter({1: 20})\n",
      "Cluster 40: Counter({1: 5397, 0: 197})\n",
      "Cluster 41: Counter({1: 18})\n",
      "Cluster 42: Counter({1: 10})\n",
      "Cluster 43: Counter({1: 14})\n",
      "Cluster 44: Counter({1: 15})\n",
      "Cluster 45: Counter({1: 13})\n",
      "Cluster 46: Counter({1: 11})\n",
      "Cluster 47: Counter({1: 32})\n",
      "Cluster 48: Counter({1: 10})\n",
      "Cluster 49: Counter({1: 12})\n",
      "Cluster 50: Counter({1: 28})\n",
      "Cluster 51: Counter({1: 11})\n",
      "Cluster 52: Counter({0: 2126})\n",
      "Cluster 53: Counter({0: 14})\n",
      "Cluster 54: Counter({1: 11})\n",
      "Cluster 55: Counter({1: 10})\n",
      "Cluster 56: Counter({1: 11})\n",
      "Cluster 57: Counter({1: 11})\n",
      "Cluster 58: Counter({1: 10})\n",
      "Cluster 59: Counter({1: 13})\n",
      "\n"
     ]
    }
   ],
   "source": [
    "print(summary)"
   ]
  },
  {
   "cell_type": "code",
   "execution_count": 225,
   "metadata": {
    "collapsed": true
   },
   "outputs": [],
   "source": [
    "categories, y_pred, cluster_centers_, sse, summary = \\\n",
    "cluster.DBSCAN_fit_predict(eps=10000, min_s=10, preproc=0)\n",
    "# visualization().visualizeData(cluster_centers_, summary)"
   ]
  },
  {
   "cell_type": "code",
   "execution_count": 226,
   "metadata": {},
   "outputs": [
    {
     "name": "stdout",
     "output_type": "stream",
     "text": [
      "Summary: \n",
      "DBSCAN \n",
      "SSE: 16494072419072.641 \n",
      "Cluster -1: Counter({1: 18, 0: 1})\n",
      "Cluster 0: Counter({1: 61840, 0: 203})\n",
      "Cluster 1: Counter({1: 12})\n",
      "Cluster 2: Counter({1: 14})\n",
      "Cluster 3: Counter({0: 2203, 1: 2})\n",
      "\n"
     ]
    }
   ],
   "source": [
    "print(summary)"
   ]
  },
  {
   "cell_type": "code",
   "execution_count": 231,
   "metadata": {
    "collapsed": true
   },
   "outputs": [],
   "source": [
    "httpsc = scale(http.iloc[:, :-1], axis=0, copy=True)"
   ]
  },
  {
   "cell_type": "code",
   "execution_count": 232,
   "metadata": {},
   "outputs": [
    {
     "data": {
      "text/plain": [
       "[<matplotlib.lines.Line2D at 0x1a3e641780>]"
      ]
     },
     "execution_count": 232,
     "metadata": {},
     "output_type": "execute_result"
    },
    {
     "data": {
      "image/png": "[encoded data removed]",
      "text/plain": [
       "<matplotlib.figure.Figure at 0x1a43d539b0>"
      ]
     },
     "metadata": {},
     "output_type": "display_data"
    }
   ],
   "source": [
    "k = 10\n",
    "nbrs = NearestNeighbors(n_neighbors=k).fit(httpsc)\n",
    "distances, indices = nbrs.kneighbors(httpsc)\n",
    "dist = distances[:, k-1]\n",
    "dist.sort()\n",
    "plt.title(\"K-dist when K=%r\" % k)\n",
    "plt.xlabel(\"Points sorted according to distance of %rth nearest neighbor\" %k)\n",
    "plt.ylabel(\"%rth nearest neighbor distance\" %k)\n",
    "plt.plot(np.arange(0, len(dist)), dist)"
   ]
  },
  {
   "cell_type": "code",
   "execution_count": 233,
   "metadata": {},
   "outputs": [
    {
     "data": {
      "text/plain": [
       "[<matplotlib.lines.Line2D at 0x1a3512aa90>]"
      ]
     },
     "execution_count": 233,
     "metadata": {},
     "output_type": "execute_result"
    },
    {
     "data": {
      "image/png": "[encoded data removed]",
      "text/plain": [
       "<matplotlib.figure.Figure at 0x1a3512ae48>"
      ]
     },
     "metadata": {},
     "output_type": "display_data"
    }
   ],
   "source": [
    "plt.title(\"K-dist when K=%r\" % k)\n",
    "plt.xlabel(\"Points sorted according to distance of %rth nearest neighbor\" %k)\n",
    "plt.ylabel(\"%rth nearest neighbor distance\" %k)\n",
    "plt.ylim((0, 50))\n",
    "plt.plot(np.arange(0, len(dist)), dist)"
   ]
  },
  {
   "cell_type": "code",
   "execution_count": 234,
   "metadata": {
    "collapsed": true
   },
   "outputs": [],
   "source": [
    "categories, y_pred, cluster_centers_, sse, summary = \\\n",
    "cluster.DBSCAN_fit_predict(eps=5, min_s=10, preproc=2)\n",
    "# visualization().visualizeData(cluster_centers_, summary)"
   ]
  },
  {
   "cell_type": "code",
   "execution_count": 235,
   "metadata": {},
   "outputs": [
    {
     "name": "stdout",
     "output_type": "stream",
     "text": [
      "Summary: \n",
      "DBSCAN \n",
      "SSE: 1127287.2268037486 \n",
      "Cluster -1: Counter({1: 111, 0: 60})\n",
      "Cluster 0: Counter({1: 61446, 0: 69})\n",
      "Cluster 1: Counter({1: 13})\n",
      "Cluster 2: Counter({1: 315})\n",
      "Cluster 3: Counter({0: 2116, 1: 1})\n",
      "Cluster 4: Counter({0: 139})\n",
      "Cluster 5: Counter({0: 23})\n",
      "\n"
     ]
    }
   ],
   "source": [
    "print(summary)"
   ]
  },
  {
   "cell_type": "code",
   "execution_count": 256,
   "metadata": {},
   "outputs": [
    {
     "name": "stdout",
     "output_type": "stream",
     "text": [
      "Counter({1: 61078, 0: 3215})\n",
      "[[ 2205   202]\n",
      " [ 1010 60876]]\n",
      "0.916078105526\n",
      "0.685847589425\n"
     ]
    }
   ],
   "source": [
    "lof = LocalOutlierFactor(n_neighbors=5000, metric=\"euclidean\", contamination=0.05, n_jobs=-1)\n",
    "y_pred = lof.fit_predict(http.iloc[:, :-1])\n",
    "np.place(y_pred, y_pred==-1, 0)\n",
    "print(Counter(y_pred))\n",
    "print(confusion_matrix(http.iloc[:, -1], y_pred))\n",
    "print(recall_score(http.iloc[:, -1], y_pred, pos_label=0))\n",
    "print(precision_score(http.iloc[:, -1], y_pred, pos_label=0))"
   ]
  },
  {
   "cell_type": "code",
   "execution_count": 302,
   "metadata": {
    "collapsed": true
   },
   "outputs": [],
   "source": [
    "httpnm = normalize(http.iloc[:, :-1], axis=0, copy=True)"
   ]
  },
  {
   "cell_type": "code",
   "execution_count": 303,
   "metadata": {},
   "outputs": [
    {
     "name": "stdout",
     "output_type": "stream",
     "text": [
      "150.29407382011414\n",
      "Counter({1: 61078, 0: 3215})\n",
      "[[ 2231   176]\n",
      " [  984 60902]]\n",
      "0.926879933527\n",
      "0.693934681182\n"
     ]
    }
   ],
   "source": [
    "start = time.time()\n",
    "lof = LocalOutlierFactor(n_neighbors=5000, metric=\"euclidean\", contamination=0.05, n_jobs=-1)\n",
    "y_pred = lof.fit_predict(httpnm)\n",
    "end = time.time()\n",
    "print(end - start)\n",
    "np.place(y_pred, y_pred==-1, 0)\n",
    "print(Counter(y_pred))\n",
    "print(confusion_matrix(http.iloc[:, -1], y_pred))\n",
    "print(recall_score(http.iloc[:, -1], y_pred, pos_label=0))\n",
    "print(precision_score(http.iloc[:, -1], y_pred, pos_label=0))"
   ]
  },
  {
   "cell_type": "code",
   "execution_count": 304,
   "metadata": {},
   "outputs": [
    {
     "data": {
      "image/png": "[encoded data removed]",
      "text/plain": [
       "<matplotlib.figure.Figure at 0x1f504f6f98>"
      ]
     },
     "metadata": {},
     "output_type": "display_data"
    }
   ],
   "source": [
    "plot_confusion_matrix(confusion_matrix(http.iloc[:, -1], y_pred), [\"intrusion\", \"normal\"])"
   ]
  },
  {
   "cell_type": "code",
   "execution_count": 244,
   "metadata": {
    "collapsed": true
   },
   "outputs": [],
   "source": [
    "range_n_clusters = [2,3,4,5,6,7]\n",
    "sses = []\n",
    "httpn = http[http[\"type\"] == 1]\n",
    "for k in range_n_clusters:\n",
    "    km = KMeans(n_clusters=k)\n",
    "    y_pred = km.fit_predict(httpn)\n",
    "    sses.append(km.inertia_)\n",
    "# clustering.silhouette(range_n_clusters, cluster_labelss)"
   ]
  },
  {
   "cell_type": "code",
   "execution_count": 252,
   "metadata": {},
   "outputs": [
    {
     "data": {
      "text/plain": [
       "Counter({0: 58106, 1: 1, 2: 3695, 3: 79, 4: 5})"
      ]
     },
     "execution_count": 252,
     "metadata": {},
     "output_type": "execute_result"
    }
   ],
   "source": [
    "km = KMeans(n_clusters=5)\n",
    "y_pred = km.fit_predict(httpn)\n",
    "Counter(y_pred)"
   ]
  },
  {
   "cell_type": "code",
   "execution_count": 245,
   "metadata": {},
   "outputs": [
    {
     "data": {
      "text/plain": [
       "[<matplotlib.lines.Line2D at 0x1ef81809e8>]"
      ]
     },
     "execution_count": 245,
     "metadata": {},
     "output_type": "execute_result"
    },
    {
     "data": {
      "image/png": "[encoded data removed]",
      "text/plain": [
       "<matplotlib.figure.Figure at 0x1ef8180a58>"
      ]
     },
     "metadata": {},
     "output_type": "display_data"
    }
   ],
   "source": [
    "plt.title(\"SSE\")\n",
    "plt.xlabel(\"num of clusters\")\n",
    "plt.ylabel(\"SSE\")\n",
    "plt.plot(range_n_clusters, sses)"
   ]
  },
  {
   "cell_type": "code",
   "execution_count": null,
   "metadata": {
    "collapsed": true
   },
   "outputs": [],
   "source": []
  }
 ],
 "metadata": {
  "kernelspec": {
   "display_name": "Python 3",
   "language": "python",
   "name": "python3"
  },
  "language_info": {
   "codemirror_mode": {
    "name": "ipython",
    "version": 3
   },
   "file_extension": ".py",
   "mimetype": "text/x-python",
   "name": "python",
   "nbconvert_exporter": "python",
   "pygments_lexer": "ipython3",
   "version": "3.6.4"
  }
 },
 "nbformat": 4,
 "nbformat_minor": 2
}
